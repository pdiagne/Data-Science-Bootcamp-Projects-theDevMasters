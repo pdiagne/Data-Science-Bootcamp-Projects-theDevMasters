{
 "cells": [
  {
   "cell_type": "code",
   "execution_count": 1,
   "metadata": {},
   "outputs": [
    {
     "name": "stderr",
     "output_type": "stream",
     "text": [
      "C:\\Users\\Magu\\Anaconda3\\lib\\site-packages\\statsmodels\\compat\\pandas.py:56: FutureWarning: The pandas.core.datetools module is deprecated and will be removed in a future version. Please use the pandas.tseries module instead.\n",
      "  from pandas.core import datetools\n"
     ]
    }
   ],
   "source": [
    "#Load packages\n",
    "from sklearn.cluster import KMeans\n",
    "import matplotlib.pyplot as plt\n",
    "import pandas as pd\n",
    "import numpy as np\n",
    "from sklearn.preprocessing import scale\n",
    "%matplotlib inline\n",
    "import seaborn\n",
    "from sklearn.model_selection import KFold\n",
    "from sklearn.model_selection import train_test_split\n",
    "from sklearn.metrics import mean_squared_error, r2_score\n",
    "from sklearn.metrics import accuracy_score\n",
    "from sklearn.metrics import precision_score\n",
    "from sklearn.metrics import recall_score\n",
    "from sklearn.datasets import make_classification\n",
    "import statsmodels.api as sm\n",
    "import functools as ft\n",
    "from sklearn.naive_bayes import GaussianNB\n",
    "from sklearn import tree\n",
    "from sklearn.ensemble import RandomForestClassifier\n",
    "from sklearn.ensemble import GradientBoostingClassifier\n",
    "from sklearn.metrics import confusion_matrix\n",
    "from collections import OrderedDict"
   ]
  },
  {
   "cell_type": "code",
   "execution_count": 2,
   "metadata": {
    "collapsed": true
   },
   "outputs": [],
   "source": [
    "#Import data\n",
    "event_type = pd.read_csv('event_type.csv') #event_type\n",
    "resource_type = pd.read_csv('resource_type.csv') #resource_type\n",
    "severity_type = pd.read_csv('severity_type.csv') #severity_type\n",
    "log_feature = pd.read_csv('log_feature.csv') #log_feature\n",
    "train = pd.read_csv('train.csv')"
   ]
  },
  {
   "cell_type": "code",
   "execution_count": 3,
   "metadata": {
    "collapsed": true
   },
   "outputs": [],
   "source": [
    "#event_type.info()\n",
    "    #31170 entries, all non-null\n",
    "#resource_type.info()\n",
    "    #21076 entries, all non-null\n",
    "#severity_type.info()\n",
    "    #18552 entries, all non-null\n",
    "#log_feature.info()\n",
    "    #58671 entries, all non-null\n",
    "#train.info()\n",
    "    #7381 entries, all non-null"
   ]
  },
  {
   "cell_type": "code",
   "execution_count": 4,
   "metadata": {},
   "outputs": [
    {
     "data": {
      "text/html": [
       "<div>\n",
       "<style>\n",
       "    .dataframe thead tr:only-child th {\n",
       "        text-align: right;\n",
       "    }\n",
       "\n",
       "    .dataframe thead th {\n",
       "        text-align: left;\n",
       "    }\n",
       "\n",
       "    .dataframe tbody tr th {\n",
       "        vertical-align: top;\n",
       "    }\n",
       "</style>\n",
       "<table border=\"1\" class=\"dataframe\">\n",
       "  <thead>\n",
       "    <tr style=\"text-align: right;\">\n",
       "      <th></th>\n",
       "      <th>id</th>\n",
       "      <th>event_type</th>\n",
       "      <th>resource_type</th>\n",
       "      <th>severity_type</th>\n",
       "      <th>log_feature</th>\n",
       "      <th>volume</th>\n",
       "    </tr>\n",
       "  </thead>\n",
       "  <tbody>\n",
       "    <tr>\n",
       "      <th>0</th>\n",
       "      <td>6597</td>\n",
       "      <td>event_type 11</td>\n",
       "      <td>resource_type 8</td>\n",
       "      <td>severity_type 2</td>\n",
       "      <td>feature 68</td>\n",
       "      <td>6</td>\n",
       "    </tr>\n",
       "    <tr>\n",
       "      <th>1</th>\n",
       "      <td>8011</td>\n",
       "      <td>event_type 15</td>\n",
       "      <td>resource_type 8</td>\n",
       "      <td>severity_type 2</td>\n",
       "      <td>feature 68</td>\n",
       "      <td>7</td>\n",
       "    </tr>\n",
       "    <tr>\n",
       "      <th>2</th>\n",
       "      <td>2597</td>\n",
       "      <td>event_type 15</td>\n",
       "      <td>resource_type 8</td>\n",
       "      <td>severity_type 2</td>\n",
       "      <td>feature 68</td>\n",
       "      <td>1</td>\n",
       "    </tr>\n",
       "    <tr>\n",
       "      <th>3</th>\n",
       "      <td>5022</td>\n",
       "      <td>event_type 15</td>\n",
       "      <td>resource_type 8</td>\n",
       "      <td>severity_type 1</td>\n",
       "      <td>feature 172</td>\n",
       "      <td>2</td>\n",
       "    </tr>\n",
       "    <tr>\n",
       "      <th>4</th>\n",
       "      <td>5022</td>\n",
       "      <td>event_type 15</td>\n",
       "      <td>resource_type 8</td>\n",
       "      <td>severity_type 1</td>\n",
       "      <td>feature 56</td>\n",
       "      <td>1</td>\n",
       "    </tr>\n",
       "  </tbody>\n",
       "</table>\n",
       "</div>"
      ],
      "text/plain": [
       "     id     event_type    resource_type    severity_type  log_feature  volume\n",
       "0  6597  event_type 11  resource_type 8  severity_type 2   feature 68       6\n",
       "1  8011  event_type 15  resource_type 8  severity_type 2   feature 68       7\n",
       "2  2597  event_type 15  resource_type 8  severity_type 2   feature 68       1\n",
       "3  5022  event_type 15  resource_type 8  severity_type 1  feature 172       2\n",
       "4  5022  event_type 15  resource_type 8  severity_type 1   feature 56       1"
      ]
     },
     "execution_count": 4,
     "metadata": {},
     "output_type": "execute_result"
    }
   ],
   "source": [
    "#Merge data\n",
    "dfs = [event_type, resource_type, severity_type, log_feature]\n",
    "data = ft.reduce(lambda left,right: pd.merge(left,right,on='id'), dfs)\n",
    "data.head()"
   ]
  },
  {
   "cell_type": "code",
   "execution_count": 5,
   "metadata": {},
   "outputs": [
    {
     "data": {
      "text/html": [
       "<div>\n",
       "<style>\n",
       "    .dataframe thead tr:only-child th {\n",
       "        text-align: right;\n",
       "    }\n",
       "\n",
       "    .dataframe thead th {\n",
       "        text-align: left;\n",
       "    }\n",
       "\n",
       "    .dataframe tbody tr th {\n",
       "        vertical-align: top;\n",
       "    }\n",
       "</style>\n",
       "<table border=\"1\" class=\"dataframe\">\n",
       "  <thead>\n",
       "    <tr style=\"text-align: right;\">\n",
       "      <th></th>\n",
       "      <th>id</th>\n",
       "      <th>event_type</th>\n",
       "      <th>resource_type</th>\n",
       "      <th>severity_type</th>\n",
       "      <th>log_feature</th>\n",
       "      <th>volume</th>\n",
       "    </tr>\n",
       "  </thead>\n",
       "  <tbody>\n",
       "    <tr>\n",
       "      <th>0</th>\n",
       "      <td>6597</td>\n",
       "      <td>11</td>\n",
       "      <td>8</td>\n",
       "      <td>2</td>\n",
       "      <td>68</td>\n",
       "      <td>6</td>\n",
       "    </tr>\n",
       "    <tr>\n",
       "      <th>1</th>\n",
       "      <td>8011</td>\n",
       "      <td>15</td>\n",
       "      <td>8</td>\n",
       "      <td>2</td>\n",
       "      <td>68</td>\n",
       "      <td>7</td>\n",
       "    </tr>\n",
       "    <tr>\n",
       "      <th>2</th>\n",
       "      <td>2597</td>\n",
       "      <td>15</td>\n",
       "      <td>8</td>\n",
       "      <td>2</td>\n",
       "      <td>68</td>\n",
       "      <td>1</td>\n",
       "    </tr>\n",
       "    <tr>\n",
       "      <th>3</th>\n",
       "      <td>5022</td>\n",
       "      <td>15</td>\n",
       "      <td>8</td>\n",
       "      <td>1</td>\n",
       "      <td>172</td>\n",
       "      <td>2</td>\n",
       "    </tr>\n",
       "    <tr>\n",
       "      <th>4</th>\n",
       "      <td>5022</td>\n",
       "      <td>15</td>\n",
       "      <td>8</td>\n",
       "      <td>1</td>\n",
       "      <td>56</td>\n",
       "      <td>1</td>\n",
       "    </tr>\n",
       "  </tbody>\n",
       "</table>\n",
       "</div>"
      ],
      "text/plain": [
       "     id event_type resource_type severity_type log_feature  volume\n",
       "0  6597         11             8             2          68       6\n",
       "1  8011         15             8             2          68       7\n",
       "2  2597         15             8             2          68       1\n",
       "3  5022         15             8             1         172       2\n",
       "4  5022         15             8             1          56       1"
      ]
     },
     "execution_count": 5,
     "metadata": {},
     "output_type": "execute_result"
    }
   ],
   "source": [
    "#Remove text from variables\n",
    "\n",
    "#Remove 'event_type' text\n",
    "data[['event_type']] = data[['event_type']].replace('event_type ', '',regex=True)\n",
    "\n",
    "#Remove 'resource_type' text\n",
    "data[['resource_type']] = data[['resource_type']].replace('resource_type ', '',regex=True)\n",
    "\n",
    "#Remove 'severity_type' text\n",
    "data[['severity_type']] = data[['severity_type']].replace('severity_type ', '',regex=True)\n",
    "\n",
    "#Remone 'feature ' text\n",
    "data[['log_feature']] = data[['log_feature']].replace('feature ', '',regex=True)\n",
    "\n",
    "data.head()"
   ]
  },
  {
   "cell_type": "code",
   "execution_count": 6,
   "metadata": {},
   "outputs": [
    {
     "name": "stdout",
     "output_type": "stream",
     "text": [
      "<class 'pandas.core.frame.DataFrame'>\n",
      "RangeIndex: 7381 entries, 0 to 7380\n",
      "Data columns (total 2 columns):\n",
      "id          7381 non-null int64\n",
      "location    7381 non-null object\n",
      "dtypes: int64(1), object(1)\n",
      "memory usage: 115.4+ KB\n"
     ]
    }
   ],
   "source": [
    "#Remove fault_severity from training set since it's the target variable\n",
    "Train = train.drop('fault_severity', axis=1)\n",
    "\n",
    "#Remove'location ' text\n",
    "Train[['location']] = Train[['location']].replace('location ', '',regex=True)\n",
    "\n",
    "Train.info()\n",
    "\n",
    "#Merge the sets based on Id that has a value for fault severity"
   ]
  },
  {
   "cell_type": "code",
   "execution_count": 7,
   "metadata": {},
   "outputs": [
    {
     "name": "stdout",
     "output_type": "stream",
     "text": [
      "<class 'pandas.core.frame.DataFrame'>\n",
      "Int64Index: 61839 entries, 0 to 61838\n",
      "Data columns (total 7 columns):\n",
      "id               61839 non-null int64\n",
      "location         61839 non-null object\n",
      "event_type       61839 non-null object\n",
      "resource_type    61839 non-null object\n",
      "severity_type    61839 non-null object\n",
      "log_feature      61839 non-null object\n",
      "volume           61839 non-null int64\n",
      "dtypes: int64(2), object(5)\n",
      "memory usage: 3.8+ MB\n"
     ]
    }
   ],
   "source": [
    "#Merge the train datafram and the combined dataframe\n",
    "dfs = [Train,data]\n",
    "merged_data = ft.reduce(lambda left,right: pd.merge(left,right,on='id'), dfs)\n",
    "merged_data.info()"
   ]
  },
  {
   "cell_type": "code",
   "execution_count": 8,
   "metadata": {},
   "outputs": [
    {
     "name": "stdout",
     "output_type": "stream",
     "text": [
      "<class 'pandas.core.frame.DataFrame'>\n",
      "RangeIndex: 7381 entries, 0 to 7380\n",
      "Data columns (total 7 columns):\n",
      "id               7381 non-null int64\n",
      "location         7381 non-null object\n",
      "event_type       7381 non-null object\n",
      "resource_type    7381 non-null object\n",
      "severity_type    7381 non-null object\n",
      "log_feature      7381 non-null object\n",
      "volume           7381 non-null int64\n",
      "dtypes: int64(2), object(5)\n",
      "memory usage: 403.7+ KB\n"
     ]
    }
   ],
   "source": [
    "#Remove duplicate rows\n",
    "\n",
    "#Sort rows based on ascending number of NaN \n",
    "merged_data = merged_data.iloc[merged_data.isnull().sum(1).sort_values(ascending=False).index]\n",
    "\n",
    "#Remove Duplicates based on Loan ID\n",
    "merged_data = merged_data.drop_duplicates(['id'], keep='last')\n",
    "\n",
    "#Reset dataframe index\n",
    "merged_data = merged_data.reset_index(drop=True)\n",
    "\n",
    "merged_data.info()"
   ]
  },
  {
   "cell_type": "code",
   "execution_count": 9,
   "metadata": {
    "collapsed": true
   },
   "outputs": [],
   "source": [
    "#Convert categorical to numberical for Decision tree\n",
    "#merged_data['event_type'] = merged_data['event_type'].astype(int)\n",
    "#merged_data['resource_type'] = merged_data['resource_type'].astype(int)\n",
    "#merged_data['severity_type'] = merged_data['severity_type'].astype(int)\n",
    "#merged_data['log_feature'] = merged_data['log_feature'].astype(int)"
   ]
  },
  {
   "cell_type": "code",
   "execution_count": 18,
   "metadata": {},
   "outputs": [
    {
     "data": {
      "text/html": [
       "<div>\n",
       "<style>\n",
       "    .dataframe thead tr:only-child th {\n",
       "        text-align: right;\n",
       "    }\n",
       "\n",
       "    .dataframe thead th {\n",
       "        text-align: left;\n",
       "    }\n",
       "\n",
       "    .dataframe tbody tr th {\n",
       "        vertical-align: top;\n",
       "    }\n",
       "</style>\n",
       "<table border=\"1\" class=\"dataframe\">\n",
       "  <thead>\n",
       "    <tr style=\"text-align: right;\">\n",
       "      <th></th>\n",
       "      <th>volume</th>\n",
       "      <th>event_11</th>\n",
       "      <th>event_12</th>\n",
       "      <th>event_13</th>\n",
       "      <th>event_14</th>\n",
       "      <th>event_15</th>\n",
       "      <th>event_18</th>\n",
       "      <th>event_2</th>\n",
       "      <th>event_20</th>\n",
       "      <th>event_21</th>\n",
       "      <th>...</th>\n",
       "      <th>log_83</th>\n",
       "      <th>log_84</th>\n",
       "      <th>log_85</th>\n",
       "      <th>log_86</th>\n",
       "      <th>log_87</th>\n",
       "      <th>log_90</th>\n",
       "      <th>log_94</th>\n",
       "      <th>log_95</th>\n",
       "      <th>log_98</th>\n",
       "      <th>log_99</th>\n",
       "    </tr>\n",
       "  </thead>\n",
       "  <tbody>\n",
       "    <tr>\n",
       "      <th>0</th>\n",
       "      <td>1</td>\n",
       "      <td>0</td>\n",
       "      <td>0</td>\n",
       "      <td>0</td>\n",
       "      <td>0</td>\n",
       "      <td>0</td>\n",
       "      <td>0</td>\n",
       "      <td>0</td>\n",
       "      <td>0</td>\n",
       "      <td>0</td>\n",
       "      <td>...</td>\n",
       "      <td>0</td>\n",
       "      <td>0</td>\n",
       "      <td>0</td>\n",
       "      <td>0</td>\n",
       "      <td>0</td>\n",
       "      <td>0</td>\n",
       "      <td>0</td>\n",
       "      <td>0</td>\n",
       "      <td>0</td>\n",
       "      <td>0</td>\n",
       "    </tr>\n",
       "    <tr>\n",
       "      <th>1</th>\n",
       "      <td>6</td>\n",
       "      <td>0</td>\n",
       "      <td>0</td>\n",
       "      <td>0</td>\n",
       "      <td>0</td>\n",
       "      <td>0</td>\n",
       "      <td>0</td>\n",
       "      <td>0</td>\n",
       "      <td>0</td>\n",
       "      <td>0</td>\n",
       "      <td>...</td>\n",
       "      <td>0</td>\n",
       "      <td>0</td>\n",
       "      <td>0</td>\n",
       "      <td>0</td>\n",
       "      <td>0</td>\n",
       "      <td>0</td>\n",
       "      <td>0</td>\n",
       "      <td>0</td>\n",
       "      <td>0</td>\n",
       "      <td>0</td>\n",
       "    </tr>\n",
       "    <tr>\n",
       "      <th>2</th>\n",
       "      <td>3</td>\n",
       "      <td>0</td>\n",
       "      <td>0</td>\n",
       "      <td>0</td>\n",
       "      <td>0</td>\n",
       "      <td>0</td>\n",
       "      <td>0</td>\n",
       "      <td>0</td>\n",
       "      <td>0</td>\n",
       "      <td>0</td>\n",
       "      <td>...</td>\n",
       "      <td>0</td>\n",
       "      <td>0</td>\n",
       "      <td>0</td>\n",
       "      <td>0</td>\n",
       "      <td>0</td>\n",
       "      <td>0</td>\n",
       "      <td>0</td>\n",
       "      <td>0</td>\n",
       "      <td>0</td>\n",
       "      <td>0</td>\n",
       "    </tr>\n",
       "    <tr>\n",
       "      <th>3</th>\n",
       "      <td>1</td>\n",
       "      <td>0</td>\n",
       "      <td>0</td>\n",
       "      <td>0</td>\n",
       "      <td>0</td>\n",
       "      <td>0</td>\n",
       "      <td>0</td>\n",
       "      <td>0</td>\n",
       "      <td>0</td>\n",
       "      <td>0</td>\n",
       "      <td>...</td>\n",
       "      <td>0</td>\n",
       "      <td>0</td>\n",
       "      <td>0</td>\n",
       "      <td>0</td>\n",
       "      <td>0</td>\n",
       "      <td>0</td>\n",
       "      <td>0</td>\n",
       "      <td>0</td>\n",
       "      <td>0</td>\n",
       "      <td>0</td>\n",
       "    </tr>\n",
       "    <tr>\n",
       "      <th>4</th>\n",
       "      <td>1</td>\n",
       "      <td>1</td>\n",
       "      <td>0</td>\n",
       "      <td>0</td>\n",
       "      <td>0</td>\n",
       "      <td>0</td>\n",
       "      <td>0</td>\n",
       "      <td>0</td>\n",
       "      <td>0</td>\n",
       "      <td>0</td>\n",
       "      <td>...</td>\n",
       "      <td>0</td>\n",
       "      <td>0</td>\n",
       "      <td>0</td>\n",
       "      <td>0</td>\n",
       "      <td>0</td>\n",
       "      <td>0</td>\n",
       "      <td>0</td>\n",
       "      <td>0</td>\n",
       "      <td>0</td>\n",
       "      <td>0</td>\n",
       "    </tr>\n",
       "  </tbody>\n",
       "</table>\n",
       "<p>5 rows × 273 columns</p>\n",
       "</div>"
      ],
      "text/plain": [
       "   volume  event_11  event_12  event_13  event_14  event_15  event_18  \\\n",
       "0       1         0         0         0         0         0         0   \n",
       "1       6         0         0         0         0         0         0   \n",
       "2       3         0         0         0         0         0         0   \n",
       "3       1         0         0         0         0         0         0   \n",
       "4       1         1         0         0         0         0         0   \n",
       "\n",
       "   event_2  event_20  event_21   ...    log_83  log_84  log_85  log_86  \\\n",
       "0        0         0         0   ...         0       0       0       0   \n",
       "1        0         0         0   ...         0       0       0       0   \n",
       "2        0         0         0   ...         0       0       0       0   \n",
       "3        0         0         0   ...         0       0       0       0   \n",
       "4        0         0         0   ...         0       0       0       0   \n",
       "\n",
       "   log_87  log_90  log_94  log_95  log_98  log_99  \n",
       "0       0       0       0       0       0       0  \n",
       "1       0       0       0       0       0       0  \n",
       "2       0       0       0       0       0       0  \n",
       "3       0       0       0       0       0       0  \n",
       "4       0       0       0       0       0       0  \n",
       "\n",
       "[5 rows x 273 columns]"
      ]
     },
     "execution_count": 18,
     "metadata": {},
     "output_type": "execute_result"
    }
   ],
   "source": [
    "#Convert to categorical using get_dummies \n",
    "dum_list = ['event_type', 'resource_type', 'severity_type', 'log_feature']\n",
    "prefix_list = ['event', 'resource', 'severity', 'log']\n",
    "merged_data_dums = pd.DataFrame(merged_data['volume'])\n",
    "\n",
    "for col in range(len(dum_list)):\n",
    "    dums = pd.get_dummies(merged_data[dum_list[col]].astype('category'), prefix = prefix_list[col], drop_first=True)\n",
    "    merged_data_dums = merged_data_dums.join(dums)\n",
    "    \n",
    "merged_data_dums.head()"
   ]
  },
  {
   "cell_type": "code",
   "execution_count": 11,
   "metadata": {},
   "outputs": [
    {
     "name": "stderr",
     "output_type": "stream",
     "text": [
      "C:\\Users\\Magu\\Anaconda3\\lib\\site-packages\\sklearn\\model_selection\\_split.py:2026: FutureWarning: From version 0.21, test_size will always complement train_size unless both are specified.\n",
      "  FutureWarning)\n"
     ]
    }
   ],
   "source": [
    "#Determine target and features\n",
    "y = pd.DataFrame(train['fault_severity'])\n",
    "x = merged_data\n",
    "#Train test split\n",
    "x_train, x_test, y_train, y_test = train_test_split(x,y,train_size = 0.7, random_state=0)\n",
    "X_train = x_train.drop(['id','location'], axis=1)\n",
    "X_test = x_test.drop(['id','location'], axis=1)"
   ]
  },
  {
   "cell_type": "code",
   "execution_count": null,
   "metadata": {
    "collapsed": true
   },
   "outputs": [],
   "source": []
  },
  {
   "cell_type": "code",
   "execution_count": 12,
   "metadata": {},
   "outputs": [
    {
     "name": "stdout",
     "output_type": "stream",
     "text": [
      "0.57381489842\n"
     ]
    },
    {
     "name": "stderr",
     "output_type": "stream",
     "text": [
      "C:\\Users\\Magu\\Anaconda3\\lib\\site-packages\\ipykernel_launcher.py:4: DataConversionWarning: A column-vector y was passed when a 1d array was expected. Please change the shape of y to (n_samples,), for example using ravel().\n",
      "  after removing the cwd from sys.path.\n"
     ]
    }
   ],
   "source": [
    "#Random Forest classifier\n",
    "    #Gradient Boosting classifier below produces better results\n",
    "clf = RandomForestClassifier(n_estimators=10)\n",
    "clf = clf.fit(X_train,y_train)\n",
    "y_pred = clf.predict(X_test)\n",
    "#print(mean_squared_error(y_test, y_pred)**0.5)\n",
    "#print(r2_score(y_test, y_pred))\n",
    "print(accuracy_score(y_test, y_pred)) #Percent of corrent predictions"
   ]
  },
  {
   "cell_type": "code",
   "execution_count": 13,
   "metadata": {},
   "outputs": [
    {
     "data": {
      "text/plain": [
       "<matplotlib.axes._subplots.AxesSubplot at 0x23cd0e47908>"
      ]
     },
     "execution_count": 13,
     "metadata": {},
     "output_type": "execute_result"
    },
    {
     "data": {
      "image/png": "[encoded data removed]",
      "text/plain": [
       "<matplotlib.figure.Figure at 0x23cd0e0c080>"
      ]
     },
     "metadata": {},
     "output_type": "display_data"
    }
   ],
   "source": [
    "#Feature Importance based on Random Forest\n",
    "features = pd.DataFrame()\n",
    "features['Feature'] = X_train.columns\n",
    "features['Importance'] = clf.feature_importances_\n",
    "features.sort_values(by=['Importance'],ascending=True,inplace=True)\n",
    "features.set_index('Feature',inplace=True)\n",
    "features.plot(kind='barh',figsize=(20,20))"
   ]
  },
  {
   "cell_type": "code",
   "execution_count": 14,
   "metadata": {},
   "outputs": [
    {
     "name": "stderr",
     "output_type": "stream",
     "text": [
      "C:\\Users\\Magu\\Anaconda3\\lib\\site-packages\\sklearn\\utils\\validation.py:578: DataConversionWarning: A column-vector y was passed when a 1d array was expected. Please change the shape of y to (n_samples, ), for example using ravel().\n",
      "  y = column_or_1d(y, warn=True)\n"
     ]
    },
    {
     "name": "stdout",
     "output_type": "stream",
     "text": [
      "0.646952595937\n"
     ]
    }
   ],
   "source": [
    "#Gradient Boosting classifier\n",
    "\n",
    "clf = GradientBoostingClassifier()\n",
    "clf = clf.fit(X_train,y_train)\n",
    "y_pred = clf.predict(X_test)\n",
    "#print(mean_squared_error(y_test, y_pred)**0.5)\n",
    "#print(r2_score(y_test, y_pred))\n",
    "print(accuracy_score(y_test, y_pred)) #Percent of corrent predictions\n",
    "\n",
    "#Extreme Gradient Boosting"
   ]
  },
  {
   "cell_type": "code",
   "execution_count": 15,
   "metadata": {},
   "outputs": [
    {
     "data": {
      "text/html": [
       "<div>\n",
       "<style>\n",
       "    .dataframe thead tr:only-child th {\n",
       "        text-align: right;\n",
       "    }\n",
       "\n",
       "    .dataframe thead th {\n",
       "        text-align: left;\n",
       "    }\n",
       "\n",
       "    .dataframe tbody tr th {\n",
       "        vertical-align: top;\n",
       "    }\n",
       "</style>\n",
       "<table border=\"1\" class=\"dataframe\">\n",
       "  <thead>\n",
       "    <tr style=\"text-align: right;\">\n",
       "      <th></th>\n",
       "      <th>No Faults</th>\n",
       "      <th>Few Faults</th>\n",
       "      <th>Many Faults</th>\n",
       "    </tr>\n",
       "  </thead>\n",
       "  <tbody>\n",
       "    <tr>\n",
       "      <th>0</th>\n",
       "      <td>1433</td>\n",
       "      <td>5</td>\n",
       "      <td>1</td>\n",
       "    </tr>\n",
       "    <tr>\n",
       "      <th>1</th>\n",
       "      <td>557</td>\n",
       "      <td>0</td>\n",
       "      <td>0</td>\n",
       "    </tr>\n",
       "    <tr>\n",
       "      <th>2</th>\n",
       "      <td>217</td>\n",
       "      <td>2</td>\n",
       "      <td>0</td>\n",
       "    </tr>\n",
       "  </tbody>\n",
       "</table>\n",
       "</div>"
      ],
      "text/plain": [
       "   No Faults  Few Faults  Many Faults\n",
       "0       1433           5            1\n",
       "1        557           0            0\n",
       "2        217           2            0"
      ]
     },
     "execution_count": 15,
     "metadata": {},
     "output_type": "execute_result"
    }
   ],
   "source": [
    "#Precision and Recall (Confusion Matrix) based on Gradient Boosting\n",
    "#One against all methodolgy since 3 target outcomes (not binary)\n",
    "\n",
    "conf = pd.DataFrame(confusion_matrix(y_test,y_pred),columns=['No Faults','Few Faults','Many Faults'])\n",
    "\n",
    "#Confustion Matrix Analysis by hand\n",
    "    #No Faults vs others\n",
    "        #Precision =  1433 / (1433 + 774) = 65%\n",
    "        #Recall = 1433 / (1434 + 6) = 99%\n",
    "    #Few Faults vs others - zero true positives so zero precision and recall\n",
    "        #Precision = 0% \n",
    "        #Recall = 0% \n",
    "    #Many Faults vs others - zero true positives so zero precision and recall\n",
    "        #Precision = 0% \n",
    "        #Recall = 0%\n",
    "        \n",
    "prec = precision_score(y_test,y_pred,labels=None,pos_label=1,average=None,sample_weight=None)\n",
    "#[ 0.64929769,  0.        ,  0.        ]\n",
    "\n",
    "rec = recall_score(y_test,y_pred,labels=None,pos_label=1,average=None,sample_weight=None)\n",
    "#[ 0.99583044,  0.        ,  0.        ]\n",
    "\n",
    "#Calculate Probability of classification\n",
    "prob = clf.predict_proba(X_test)\n",
    "\n",
    "conf #columns = predicted, rows = actual"
   ]
  },
  {
   "cell_type": "code",
   "execution_count": 16,
   "metadata": {
    "collapsed": true
   },
   "outputs": [],
   "source": [
    "#Output csv\n",
    "#CSV file with the location of the tower, followed by the classified fault_severity,\n",
    "#& if possible (check the sample project), the probabilities of the different fault_severity.\n",
    "\n",
    "sub = pd.DataFrame(OrderedDict({'location': x_test.location,'fault severity':y_pred,\n",
    "    'prob of fault zero':prob[:,0],'prob of fault one':prob[:,1],'prob of fault two':prob[:,2]}))\n",
    "\n",
    "sub.to_csv('disruption_v2.csv', index=False)\n"
   ]
  }
 ],
 "metadata": {
  "kernelspec": {
   "display_name": "Python 3",
   "language": "python",
   "name": "python3"
  },
  "language_info": {
   "codemirror_mode": {
    "name": "ipython",
    "version": 3
   },
   "file_extension": ".py",
   "mimetype": "text/x-python",
   "name": "python",
   "nbconvert_exporter": "python",
   "pygments_lexer": "ipython3",
   "version": "3.6.3"
  }
 },
 "nbformat": 4,
 "nbformat_minor": 2
}
