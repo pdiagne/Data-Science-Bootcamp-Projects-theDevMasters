{
 "cells": [
  {
   "cell_type": "code",
   "execution_count": 1,
   "metadata": {
    "collapsed": true
   },
   "outputs": [],
   "source": [
    "#Competition url:\n",
    "    #https://www.kaggle.com/c/house-prices-advanced-regression-techniques"
   ]
  },
  {
   "cell_type": "code",
   "execution_count": 2,
   "metadata": {},
   "outputs": [
    {
     "name": "stderr",
     "output_type": "stream",
     "text": [
      "C:\\Users\\Magu\\Anaconda3\\lib\\site-packages\\statsmodels\\compat\\pandas.py:56: FutureWarning: The pandas.core.datetools module is deprecated and will be removed in a future version. Please use the pandas.tseries module instead.\n",
      "  from pandas.core import datetools\n"
     ]
    }
   ],
   "source": [
    "#Load packages\n",
    "import pandas as pd\n",
    "import numpy as np\n",
    "from sklearn.model_selection import train_test_split\n",
    "from sklearn.metrics import mean_squared_error, r2_score\n",
    "import statsmodels.api as sm\n",
    "from sklearn import linear_model\n",
    "from sklearn.linear_model import Ridge, Lasso\n",
    "from sklearn.ensemble import GradientBoostingRegressor\n",
    "import matplotlib.pyplot as plt\n",
    "%matplotlib inline\n",
    "from sklearn.metrics import accuracy_score\n",
    "from sklearn.feature_selection import SelectFromModel\n",
    "from numpy import sort\n",
    "from collections import OrderedDict"
   ]
  },
  {
   "cell_type": "code",
   "execution_count": 3,
   "metadata": {
    "collapsed": true
   },
   "outputs": [],
   "source": [
    "#Import data\n",
    "train = pd.read_csv('train.csv')\n",
    "test = pd.read_csv('test.csv')"
   ]
  },
  {
   "cell_type": "markdown",
   "metadata": {},
   "source": [
    "# Training Data Cleaning"
   ]
  },
  {
   "cell_type": "code",
   "execution_count": 4,
   "metadata": {
    "collapsed": true
   },
   "outputs": [],
   "source": [
    "#Explore Data - Missing Data (1460 total training entries)\n",
    "\n",
    "#train['LotFrontage'].unique()\n",
    "#train['LotFrontage'].describe()\n",
    "#train.info()\n",
    "#train.describe()\n",
    "\n",
    "#LotFrontage = 1201 float (Linear feet of street connected to property)\n",
    "\n",
    "#Alley = 91 object [nan 'Grvl' 'Pave']\n",
    "\n",
    "#MasVnrType = 1452 object ['BrkFace' 'None' 'Stone' 'BrkCmn' nan]\n",
    "#MasVnrArea = 1452 float\n",
    "\n",
    "#Electrical = 1459 object ['SBrkr' 'FuseF' 'FuseA' 'FuseP' 'Mix' nan]\n",
    "\n",
    "#FireplaceQu = 770 object [nan 'TA' 'Gd' 'Fa' 'Ex' 'Po']\n",
    "\n",
    "#GarageType = 1379 object ['Attchd' 'Detchd' 'BuiltIn' 'CarPort' nan 'Basment' '2Types']\n",
    "#GarageYrBlt = 1379 float\n",
    "#GarageFinish = 1379 object ['RFn' 'Unf' 'Fin' nan]\n",
    "#GarageQual = 1379 object ['TA' 'Fa' 'Gd' nan 'Ex' 'Po']\n",
    "#GarageCond = 1379 object ['TA' 'Fa' nan 'Gd' 'Po' 'Ex']\n",
    "\n",
    "#PoolQC = 7 object [nan 'Ex' 'Fa' 'Gd']\n",
    "\n",
    "#Fence = 281 object [nan 'MnPrv' 'GdWo' 'GdPrv' 'MnWw']\n",
    "\n",
    "#MiscFeature = 54 object [nan 'Shed' 'Gar2' 'Othr' 'TenC']\n",
    "\n",
    "#BsmtQual = 1423 object ['Gd' 'TA' 'Ex' nan 'Fa']\n",
    "#BsmtCond = 1423 object ['TA' 'Gd' nan 'Fa' 'Po']\n",
    "#BsmtExposure = 1422 object ['No' 'Gd' 'Mn' 'Av' nan]\n",
    "#BsmtFinType1 = 1423 object ['GLQ' 'ALQ' 'Unf' 'Rec' 'BLQ' nan 'LwQ']\n",
    "#BsmtFinType2 = 1422 object ['Unf' 'BLQ' nan 'ALQ' 'Rec' 'LwQ' 'GLQ']"
   ]
  },
  {
   "cell_type": "code",
   "execution_count": 5,
   "metadata": {},
   "outputs": [
    {
     "name": "stdout",
     "output_type": "stream",
     "text": [
      "<class 'pandas.core.frame.DataFrame'>\n",
      "RangeIndex: 1460 entries, 0 to 1459\n",
      "Data columns (total 81 columns):\n",
      "Id               1460 non-null int64\n",
      "MSSubClass       1460 non-null int64\n",
      "MSZoning         1460 non-null object\n",
      "LotFrontage      1201 non-null float64\n",
      "LotArea          1460 non-null int64\n",
      "Street           1460 non-null object\n",
      "Alley            91 non-null object\n",
      "LotShape         1460 non-null object\n",
      "LandContour      1460 non-null object\n",
      "Utilities        1460 non-null object\n",
      "LotConfig        1460 non-null object\n",
      "LandSlope        1460 non-null object\n",
      "Neighborhood     1460 non-null object\n",
      "Condition1       1460 non-null object\n",
      "Condition2       1460 non-null object\n",
      "BldgType         1460 non-null object\n",
      "HouseStyle       1460 non-null object\n",
      "OverallQual      1460 non-null int64\n",
      "OverallCond      1460 non-null int64\n",
      "YearBuilt        1460 non-null int64\n",
      "YearRemodAdd     1460 non-null int64\n",
      "RoofStyle        1460 non-null object\n",
      "RoofMatl         1460 non-null object\n",
      "Exterior1st      1460 non-null object\n",
      "Exterior2nd      1460 non-null object\n",
      "MasVnrType       1452 non-null object\n",
      "MasVnrArea       1452 non-null float64\n",
      "ExterQual        1460 non-null object\n",
      "ExterCond        1460 non-null object\n",
      "Foundation       1460 non-null object\n",
      "BsmtQual         1423 non-null object\n",
      "BsmtCond         1423 non-null object\n",
      "BsmtExposure     1422 non-null object\n",
      "BsmtFinType1     1423 non-null object\n",
      "BsmtFinSF1       1460 non-null int64\n",
      "BsmtFinType2     1422 non-null object\n",
      "BsmtFinSF2       1460 non-null int64\n",
      "BsmtUnfSF        1460 non-null int64\n",
      "TotalBsmtSF      1460 non-null int64\n",
      "Heating          1460 non-null object\n",
      "HeatingQC        1460 non-null object\n",
      "CentralAir       1460 non-null object\n",
      "Electrical       1459 non-null object\n",
      "1stFlrSF         1460 non-null int64\n",
      "2ndFlrSF         1460 non-null int64\n",
      "LowQualFinSF     1460 non-null int64\n",
      "GrLivArea        1460 non-null int64\n",
      "BsmtFullBath     1460 non-null int64\n",
      "BsmtHalfBath     1460 non-null int64\n",
      "FullBath         1460 non-null int64\n",
      "HalfBath         1460 non-null int64\n",
      "BedroomAbvGr     1460 non-null int64\n",
      "KitchenAbvGr     1460 non-null int64\n",
      "KitchenQual      1460 non-null object\n",
      "TotRmsAbvGrd     1460 non-null int64\n",
      "Functional       1460 non-null object\n",
      "Fireplaces       1460 non-null int64\n",
      "FireplaceQu      770 non-null object\n",
      "GarageType       1379 non-null object\n",
      "GarageYrBlt      1379 non-null float64\n",
      "GarageFinish     1379 non-null object\n",
      "GarageCars       1460 non-null int64\n",
      "GarageArea       1460 non-null int64\n",
      "GarageQual       1379 non-null object\n",
      "GarageCond       1379 non-null object\n",
      "PavedDrive       1460 non-null object\n",
      "WoodDeckSF       1460 non-null int64\n",
      "OpenPorchSF      1460 non-null int64\n",
      "EnclosedPorch    1460 non-null int64\n",
      "3SsnPorch        1460 non-null int64\n",
      "ScreenPorch      1460 non-null int64\n",
      "PoolArea         1460 non-null int64\n",
      "PoolQC           7 non-null object\n",
      "Fence            281 non-null object\n",
      "MiscFeature      54 non-null object\n",
      "MiscVal          1460 non-null int64\n",
      "MoSold           1460 non-null int64\n",
      "YrSold           1460 non-null int64\n",
      "SaleType         1460 non-null object\n",
      "SaleCondition    1460 non-null object\n",
      "SalePrice        1460 non-null int64\n",
      "dtypes: float64(3), int64(35), object(43)\n",
      "memory usage: 924.0+ KB\n"
     ]
    }
   ],
   "source": [
    "train.info()"
   ]
  },
  {
   "cell_type": "code",
   "execution_count": 6,
   "metadata": {
    "collapsed": true
   },
   "outputs": [],
   "source": [
    "#LotFrontage = 1201 float (Linear feet of street connected to property)\n",
    "#Regression model to predict missing LotFrontage \n",
    "\n",
    "#Separate data into train and test sets\n",
    "train_lot = train[np.isnan(train['LotFrontage']) == False]\n",
    "test_lot = train[np.isnan(train['LotFrontage']) == True]\n",
    "    \n",
    "#Convert categorical using get_dummies (train data) \n",
    "dum_list = ['LotConfig','LandSlope','LandContour']\n",
    "prefix_list = ['LotConfig','LandSlope','LandContour']\n",
    "merged_data_dums = pd.DataFrame(train_lot['LotArea'])\n",
    "for col in range(len(dum_list)):\n",
    "    dums = pd.get_dummies(train_lot[dum_list[col]].astype('category'), prefix = prefix_list[col], drop_first=True)\n",
    "    merged_data_dums = merged_data_dums.join(dums)\n",
    "    \n",
    "#Fit Lasso regression \n",
    "x = sm.add_constant(merged_data_dums)\n",
    "y = train_lot['LotFrontage']\n",
    "lassoreg = linear_model.Lasso()\n",
    "lassoreg.fit(x,y)\n",
    "\n",
    "#Convert categorical using get_dummies (test data) \n",
    "dum_list = ['LotConfig','LandSlope','LandContour']\n",
    "prefix_list = ['LotConfig','LandSlope','LandContour']\n",
    "merged_data_dums1 = pd.DataFrame(test_lot['LotArea'])\n",
    "for col in range(len(dum_list)):\n",
    "    dums = pd.get_dummies(test_lot[dum_list[col]].astype('category'), prefix = prefix_list[col], drop_first=True)\n",
    "    merged_data_dums1 = merged_data_dums1.join(dums)\n",
    "\n",
    "#Prdeict LotFrontage with Lasso regression \n",
    "X = sm.add_constant(merged_data_dums)\n",
    "lot_pred_lasso = lassoreg.predict(X)\n",
    "\n",
    "#Replace NaN LotFrontage with predicted values from Lasso regression\n",
    "d = 0\n",
    "for i in range(0,len(train)):\n",
    "    if np.isnan(train['LotFrontage'].get_value(i)) == True:\n",
    "        train.set_value(i,['LotFrontage'],lot_pred_lasso[d])\n",
    "        d = d + 1"
   ]
  },
  {
   "cell_type": "code",
   "execution_count": 7,
   "metadata": {
    "collapsed": true
   },
   "outputs": [],
   "source": [
    "#Alley = 91 object [nan 'Grvl' 'Pave'] (Type of alley access to property)\n",
    "\n",
    "#Replace nan with 'none'\n",
    "alley_map = {np.NaN:'None'}\n",
    "train['Alley'] = train['Alley'].apply(lambda r:alley_map.get(r) if r in alley_map else r)"
   ]
  },
  {
   "cell_type": "code",
   "execution_count": 8,
   "metadata": {
    "collapsed": true
   },
   "outputs": [],
   "source": [
    "#MasVnrType = 1452 object ['BrkFace' 'None' 'Stone' 'BrkCmn' nan]\n",
    "#MasVnrArea = 1452 float\n",
    "\n",
    "#Replace MasVnrType nan values with None\n",
    "masvnrtype_map = {np.NaN:'None'}\n",
    "train['MasVnrType'] = train['MasVnrType'].apply(lambda r:masvnrtype_map.get(r) if r in masvnrtype_map else r)\n",
    "\n",
    "#Replace MasVnrArea nan values with 0\n",
    "for i in range(0,len(train)):\n",
    "    if np.isnan(train['MasVnrArea'].get_value(i)) == True:\n",
    "        train.set_value(i,['MasVnrArea'],0)"
   ]
  },
  {
   "cell_type": "code",
   "execution_count": 9,
   "metadata": {
    "collapsed": true
   },
   "outputs": [],
   "source": [
    "#Electrical = 1459 object ['SBrkr' 'FuseF' 'FuseA' 'FuseP' 'Mix' nan]\n",
    "#Replace missing value with mode\n",
    "mode_elec = train['Electrical'].mode() #SBrkr\n",
    "elec_map = {np.NaN:mode_elec}\n",
    "train['Electrical'] = train['Electrical'].apply(lambda r:elec_map.get(r) if r in elec_map else r)"
   ]
  },
  {
   "cell_type": "code",
   "execution_count": 10,
   "metadata": {
    "collapsed": true
   },
   "outputs": [],
   "source": [
    "#FireplaceQu = 770 object [nan 'TA' 'Gd' 'Fa' 'Ex' 'Po']\n",
    "#Replace missing value with None\n",
    "fire_map = {np.NaN:'None'}\n",
    "train['FireplaceQu'] = train['FireplaceQu'].apply(lambda r:fire_map.get(r) if r in fire_map else r)"
   ]
  },
  {
   "cell_type": "code",
   "execution_count": 11,
   "metadata": {
    "collapsed": true
   },
   "outputs": [],
   "source": [
    "#GarageType = 1379 object ['Attchd' 'Detchd' 'BuiltIn' 'CarPort' nan 'Basment' '2Types']\n",
    "#GarageYrBlt = 1379 float\n",
    "#GarageFinish = 1379 object ['RFn' 'Unf' 'Fin' nan]\n",
    "#GarageQual = 1379 object ['TA' 'Fa' 'Gd' nan 'Ex' 'Po']\n",
    "#GarageCond = 1379 object ['TA' 'Fa' nan 'Gd' 'Po' 'Ex']\n",
    "\n",
    "#Check if GarageQual and GarageCond are the same\n",
    "match = train['GarageQual'] == train['GarageCond'] # Not all True so not the same\n",
    "\n",
    "#Find indecies of nan for each feature \n",
    "GarageType_index = train[train['GarageType'].isnull()].index.tolist()\n",
    "GarageYrBlt_index = train[train['GarageYrBlt'].isnull()].index.tolist()\n",
    "GarageFinish_index = train[train['GarageFinish'].isnull()].index.tolist()\n",
    "GarageQual_index = train[train['GarageQual'].isnull()].index.tolist()\n",
    "GarageCond_index = train[train['GarageCond'].isnull()].index.tolist()\n",
    "\n",
    "#Check that nan for each feature is in the same row \n",
    "GarageType_index==GarageYrBlt_index==GarageFinish_index==GarageQual_index==GarageCond_index\n",
    "    #True\n",
    "\n",
    "#Replace GarageType, GarageFinish, GarageQual,GarageCond nan with None\n",
    "garage_map = {np.NaN:'None'}\n",
    "train['GarageType'] = train['GarageType'].apply(lambda r:garage_map.get(r) if r in garage_map else r)\n",
    "train['GarageFinish'] = train['GarageFinish'].apply(lambda r:garage_map.get(r) if r in garage_map else r)\n",
    "train['GarageQual'] = train['GarageQual'].apply(lambda r:garage_map.get(r) if r in garage_map else r)\n",
    "train['GarageCond'] = train['GarageCond'].apply(lambda r:garage_map.get(r) if r in garage_map else r)\n",
    "\n",
    "#Replace GarageYrBlt nan values with 0\n",
    "for i in range(0,len(train)):\n",
    "    if np.isnan(train['GarageYrBlt'].get_value(i)) == True:\n",
    "        train.set_value(i,['GarageYrBlt'],0)"
   ]
  },
  {
   "cell_type": "code",
   "execution_count": 12,
   "metadata": {
    "collapsed": true
   },
   "outputs": [],
   "source": [
    "#PoolQC = 7 object [nan 'Ex' 'Fa' 'Gd']\n",
    "#Replace missing value with None\n",
    "pool_map = {np.NaN:'None'}\n",
    "train['PoolQC'] = train['PoolQC'].apply(lambda r:pool_map.get(r) if r in pool_map else r)"
   ]
  },
  {
   "cell_type": "code",
   "execution_count": 13,
   "metadata": {
    "collapsed": true
   },
   "outputs": [],
   "source": [
    "#Fence = 281 object [nan 'MnPrv' 'GdWo' 'GdPrv' 'MnWw']\n",
    "#Replace missing value with None\n",
    "fence_map = {np.NaN:'None'}\n",
    "train['Fence'] = train['Fence'].apply(lambda r:fence_map.get(r) if r in fence_map else r)"
   ]
  },
  {
   "cell_type": "code",
   "execution_count": 14,
   "metadata": {
    "collapsed": true
   },
   "outputs": [],
   "source": [
    "#MiscFeature = 54 object [nan 'Shed' 'Gar2' 'Othr' 'TenC']\n",
    "#Replace missing value with None\n",
    "misc_map = {np.NaN:'None'}\n",
    "train['MiscFeature'] = train['MiscFeature'].apply(lambda r:misc_map.get(r) if r in misc_map else r)"
   ]
  },
  {
   "cell_type": "code",
   "execution_count": 15,
   "metadata": {
    "collapsed": true
   },
   "outputs": [],
   "source": [
    "#BsmtQual = 1423 object ['Gd' 'TA' 'Ex' nan 'Fa']\n",
    "#BsmtCond = 1423 object ['TA' 'Gd' nan 'Fa' 'Po']\n",
    "#BsmtExposure = 1422 object ['No' 'Gd' 'Mn' 'Av' nan]\n",
    "#BsmtFinType1 = 1423 object ['GLQ' 'ALQ' 'Unf' 'Rec' 'BLQ' nan 'LwQ']\n",
    "#BsmtFinType2 = 1422 object ['Unf' 'BLQ' nan 'ALQ' 'Rec' 'LwQ' 'GLQ']\n",
    "\n",
    "#Find indexs of nan for each feature \n",
    "BsmtQual_index = train[train['BsmtQual'].isnull()].index.tolist()\n",
    "BsmtCond_index = train[train['BsmtCond'].isnull()].index.tolist()\n",
    "BsmtExposure_index = train[train['BsmtExposure'].isnull()].index.tolist()\n",
    "BsmtFinType1_index = train[train['BsmtFinType1'].isnull()].index.tolist()\n",
    "BsmtFinType2_index = train[train['BsmtFinType2'].isnull()].index.tolist()\n",
    "#BsmtQual_index==BsmtCond_index==BsmtFinType1_index  \n",
    "    #True\n",
    "\n",
    "#Replace missing BsmtExposure with mode\n",
    "d = 0\n",
    "i = 0\n",
    "while i < len(BsmtExposure_index) and d == 0:\n",
    "    if (BsmtExposure_index[i]==BsmtQual_index[i])==False:\n",
    "        BsmtExposure_miss_index = BsmtExposure_index[i]\n",
    "        BsmtExposure_mode = train['BsmtExposure'].mode() #No\n",
    "        train.set_value(BsmtExposure_miss_index,['BsmtExposure'],BsmtExposure_mode)\n",
    "        d = 1\n",
    "    i = i + 1\n",
    "\n",
    "#Replace missing BsmtFinType2 with mode\n",
    "d = 0\n",
    "i = 0\n",
    "while i < len(BsmtFinType2_index) and d == 0:\n",
    "    if (BsmtFinType2_index[i]==BsmtQual_index[i])==False:\n",
    "        BsmtFinType2_miss_index = BsmtFinType2_index[i]\n",
    "        BsmtFinType2_mode = train['BsmtFinType2'].mode() #Unf\n",
    "        train.set_value(BsmtFinType2_miss_index,['BsmtFinType2'],BsmtFinType2_mode)\n",
    "        d = 1\n",
    "    i = i + 1"
   ]
  },
  {
   "cell_type": "code",
   "execution_count": 16,
   "metadata": {
    "collapsed": true
   },
   "outputs": [],
   "source": [
    "#Replace nan BsmtFinType1 with None\n",
    "BsmtFinType1_map = {np.NaN:'None'}\n",
    "train['BsmtFinType1'] = train['BsmtFinType1'].apply(lambda r:BsmtFinType1_map.get(r) if r in BsmtFinType1_map else r)\n",
    "\n",
    "#Replace nan BsmtQual with None\n",
    "BsmtQual_map = {np.NaN:'None'}\n",
    "train['BsmtQual'] = train['BsmtQual'].apply(lambda r:BsmtQual_map.get(r) if r in BsmtQual_map else r)\n",
    "\n",
    "#Replace nan BsmtCond with None\n",
    "BsmtCond_map = {np.NaN:'None'}\n",
    "train['BsmtCond'] = train['BsmtCond'].apply(lambda r:BsmtCond_map.get(r) if r in BsmtCond_map else r)\n",
    "\n",
    "#Replace nan BsmtFinType2 with None\n",
    "for i in range(0,len(train)):\n",
    "    if pd.isnull(train['BsmtFinType2'].get_value(i)):\n",
    "        train.set_value(i,['BsmtFinType2'],'None')\n",
    "        \n",
    "#Replace nan BsmtExposure with None\n",
    "for i in range(0,len(train)):\n",
    "    if pd.isnull(train['BsmtExposure'].get_value(i)):\n",
    "        train.set_value(i,['BsmtExposure'],'None')"
   ]
  },
  {
   "cell_type": "code",
   "execution_count": 17,
   "metadata": {},
   "outputs": [
    {
     "data": {
      "text/html": [
       "<div>\n",
       "<style>\n",
       "    .dataframe thead tr:only-child th {\n",
       "        text-align: right;\n",
       "    }\n",
       "\n",
       "    .dataframe thead th {\n",
       "        text-align: left;\n",
       "    }\n",
       "\n",
       "    .dataframe tbody tr th {\n",
       "        vertical-align: top;\n",
       "    }\n",
       "</style>\n",
       "<table border=\"1\" class=\"dataframe\">\n",
       "  <thead>\n",
       "    <tr style=\"text-align: right;\">\n",
       "      <th></th>\n",
       "      <th>Id</th>\n",
       "      <th>MSSubClass</th>\n",
       "      <th>LotFrontage</th>\n",
       "      <th>LotArea</th>\n",
       "      <th>OverallQual</th>\n",
       "      <th>OverallCond</th>\n",
       "      <th>YearBuilt</th>\n",
       "      <th>YearRemodAdd</th>\n",
       "      <th>MasVnrArea</th>\n",
       "      <th>BsmtFinSF1</th>\n",
       "      <th>...</th>\n",
       "      <th>WoodDeckSF</th>\n",
       "      <th>OpenPorchSF</th>\n",
       "      <th>EnclosedPorch</th>\n",
       "      <th>3SsnPorch</th>\n",
       "      <th>ScreenPorch</th>\n",
       "      <th>PoolArea</th>\n",
       "      <th>MiscVal</th>\n",
       "      <th>MoSold</th>\n",
       "      <th>YrSold</th>\n",
       "      <th>SalePrice</th>\n",
       "    </tr>\n",
       "  </thead>\n",
       "  <tbody>\n",
       "    <tr>\n",
       "      <th>count</th>\n",
       "      <td>1460.000000</td>\n",
       "      <td>1460.000000</td>\n",
       "      <td>1460.000000</td>\n",
       "      <td>1460.000000</td>\n",
       "      <td>1460.000000</td>\n",
       "      <td>1460.000000</td>\n",
       "      <td>1460.000000</td>\n",
       "      <td>1460.000000</td>\n",
       "      <td>1460.000000</td>\n",
       "      <td>1460.000000</td>\n",
       "      <td>...</td>\n",
       "      <td>1460.000000</td>\n",
       "      <td>1460.000000</td>\n",
       "      <td>1460.000000</td>\n",
       "      <td>1460.000000</td>\n",
       "      <td>1460.000000</td>\n",
       "      <td>1460.000000</td>\n",
       "      <td>1460.000000</td>\n",
       "      <td>1460.000000</td>\n",
       "      <td>1460.000000</td>\n",
       "      <td>1460.000000</td>\n",
       "    </tr>\n",
       "    <tr>\n",
       "      <th>mean</th>\n",
       "      <td>730.500000</td>\n",
       "      <td>56.897260</td>\n",
       "      <td>70.073490</td>\n",
       "      <td>10516.828082</td>\n",
       "      <td>6.099315</td>\n",
       "      <td>5.575342</td>\n",
       "      <td>1971.267808</td>\n",
       "      <td>1984.865753</td>\n",
       "      <td>103.117123</td>\n",
       "      <td>443.639726</td>\n",
       "      <td>...</td>\n",
       "      <td>94.244521</td>\n",
       "      <td>46.660274</td>\n",
       "      <td>21.954110</td>\n",
       "      <td>3.409589</td>\n",
       "      <td>15.060959</td>\n",
       "      <td>2.758904</td>\n",
       "      <td>43.489041</td>\n",
       "      <td>6.321918</td>\n",
       "      <td>2007.815753</td>\n",
       "      <td>180921.195890</td>\n",
       "    </tr>\n",
       "    <tr>\n",
       "      <th>std</th>\n",
       "      <td>421.610009</td>\n",
       "      <td>42.300571</td>\n",
       "      <td>22.202524</td>\n",
       "      <td>9981.264932</td>\n",
       "      <td>1.382997</td>\n",
       "      <td>1.112799</td>\n",
       "      <td>30.202904</td>\n",
       "      <td>20.645407</td>\n",
       "      <td>180.731373</td>\n",
       "      <td>456.098091</td>\n",
       "      <td>...</td>\n",
       "      <td>125.338794</td>\n",
       "      <td>66.256028</td>\n",
       "      <td>61.119149</td>\n",
       "      <td>29.317331</td>\n",
       "      <td>55.757415</td>\n",
       "      <td>40.177307</td>\n",
       "      <td>496.123024</td>\n",
       "      <td>2.703626</td>\n",
       "      <td>1.328095</td>\n",
       "      <td>79442.502883</td>\n",
       "    </tr>\n",
       "    <tr>\n",
       "      <th>min</th>\n",
       "      <td>1.000000</td>\n",
       "      <td>20.000000</td>\n",
       "      <td>21.000000</td>\n",
       "      <td>1300.000000</td>\n",
       "      <td>1.000000</td>\n",
       "      <td>1.000000</td>\n",
       "      <td>1872.000000</td>\n",
       "      <td>1950.000000</td>\n",
       "      <td>0.000000</td>\n",
       "      <td>0.000000</td>\n",
       "      <td>...</td>\n",
       "      <td>0.000000</td>\n",
       "      <td>0.000000</td>\n",
       "      <td>0.000000</td>\n",
       "      <td>0.000000</td>\n",
       "      <td>0.000000</td>\n",
       "      <td>0.000000</td>\n",
       "      <td>0.000000</td>\n",
       "      <td>1.000000</td>\n",
       "      <td>2006.000000</td>\n",
       "      <td>34900.000000</td>\n",
       "    </tr>\n",
       "    <tr>\n",
       "      <th>25%</th>\n",
       "      <td>365.750000</td>\n",
       "      <td>20.000000</td>\n",
       "      <td>60.000000</td>\n",
       "      <td>7553.500000</td>\n",
       "      <td>5.000000</td>\n",
       "      <td>5.000000</td>\n",
       "      <td>1954.000000</td>\n",
       "      <td>1967.000000</td>\n",
       "      <td>0.000000</td>\n",
       "      <td>0.000000</td>\n",
       "      <td>...</td>\n",
       "      <td>0.000000</td>\n",
       "      <td>0.000000</td>\n",
       "      <td>0.000000</td>\n",
       "      <td>0.000000</td>\n",
       "      <td>0.000000</td>\n",
       "      <td>0.000000</td>\n",
       "      <td>0.000000</td>\n",
       "      <td>5.000000</td>\n",
       "      <td>2007.000000</td>\n",
       "      <td>129975.000000</td>\n",
       "    </tr>\n",
       "    <tr>\n",
       "      <th>50%</th>\n",
       "      <td>730.500000</td>\n",
       "      <td>50.000000</td>\n",
       "      <td>69.546209</td>\n",
       "      <td>9478.500000</td>\n",
       "      <td>6.000000</td>\n",
       "      <td>5.000000</td>\n",
       "      <td>1973.000000</td>\n",
       "      <td>1994.000000</td>\n",
       "      <td>0.000000</td>\n",
       "      <td>383.500000</td>\n",
       "      <td>...</td>\n",
       "      <td>0.000000</td>\n",
       "      <td>25.000000</td>\n",
       "      <td>0.000000</td>\n",
       "      <td>0.000000</td>\n",
       "      <td>0.000000</td>\n",
       "      <td>0.000000</td>\n",
       "      <td>0.000000</td>\n",
       "      <td>6.000000</td>\n",
       "      <td>2008.000000</td>\n",
       "      <td>163000.000000</td>\n",
       "    </tr>\n",
       "    <tr>\n",
       "      <th>75%</th>\n",
       "      <td>1095.250000</td>\n",
       "      <td>70.000000</td>\n",
       "      <td>79.801175</td>\n",
       "      <td>11601.500000</td>\n",
       "      <td>7.000000</td>\n",
       "      <td>6.000000</td>\n",
       "      <td>2000.000000</td>\n",
       "      <td>2004.000000</td>\n",
       "      <td>164.250000</td>\n",
       "      <td>712.250000</td>\n",
       "      <td>...</td>\n",
       "      <td>168.000000</td>\n",
       "      <td>68.000000</td>\n",
       "      <td>0.000000</td>\n",
       "      <td>0.000000</td>\n",
       "      <td>0.000000</td>\n",
       "      <td>0.000000</td>\n",
       "      <td>0.000000</td>\n",
       "      <td>8.000000</td>\n",
       "      <td>2009.000000</td>\n",
       "      <td>214000.000000</td>\n",
       "    </tr>\n",
       "    <tr>\n",
       "      <th>max</th>\n",
       "      <td>1460.000000</td>\n",
       "      <td>190.000000</td>\n",
       "      <td>313.000000</td>\n",
       "      <td>215245.000000</td>\n",
       "      <td>10.000000</td>\n",
       "      <td>9.000000</td>\n",
       "      <td>2010.000000</td>\n",
       "      <td>2010.000000</td>\n",
       "      <td>1600.000000</td>\n",
       "      <td>5644.000000</td>\n",
       "      <td>...</td>\n",
       "      <td>857.000000</td>\n",
       "      <td>547.000000</td>\n",
       "      <td>552.000000</td>\n",
       "      <td>508.000000</td>\n",
       "      <td>480.000000</td>\n",
       "      <td>738.000000</td>\n",
       "      <td>15500.000000</td>\n",
       "      <td>12.000000</td>\n",
       "      <td>2010.000000</td>\n",
       "      <td>755000.000000</td>\n",
       "    </tr>\n",
       "  </tbody>\n",
       "</table>\n",
       "<p>8 rows × 38 columns</p>\n",
       "</div>"
      ],
      "text/plain": [
       "                Id   MSSubClass  LotFrontage        LotArea  OverallQual  \\\n",
       "count  1460.000000  1460.000000  1460.000000    1460.000000  1460.000000   \n",
       "mean    730.500000    56.897260    70.073490   10516.828082     6.099315   \n",
       "std     421.610009    42.300571    22.202524    9981.264932     1.382997   \n",
       "min       1.000000    20.000000    21.000000    1300.000000     1.000000   \n",
       "25%     365.750000    20.000000    60.000000    7553.500000     5.000000   \n",
       "50%     730.500000    50.000000    69.546209    9478.500000     6.000000   \n",
       "75%    1095.250000    70.000000    79.801175   11601.500000     7.000000   \n",
       "max    1460.000000   190.000000   313.000000  215245.000000    10.000000   \n",
       "\n",
       "       OverallCond    YearBuilt  YearRemodAdd   MasVnrArea   BsmtFinSF1  \\\n",
       "count  1460.000000  1460.000000   1460.000000  1460.000000  1460.000000   \n",
       "mean      5.575342  1971.267808   1984.865753   103.117123   443.639726   \n",
       "std       1.112799    30.202904     20.645407   180.731373   456.098091   \n",
       "min       1.000000  1872.000000   1950.000000     0.000000     0.000000   \n",
       "25%       5.000000  1954.000000   1967.000000     0.000000     0.000000   \n",
       "50%       5.000000  1973.000000   1994.000000     0.000000   383.500000   \n",
       "75%       6.000000  2000.000000   2004.000000   164.250000   712.250000   \n",
       "max       9.000000  2010.000000   2010.000000  1600.000000  5644.000000   \n",
       "\n",
       "           ...         WoodDeckSF  OpenPorchSF  EnclosedPorch    3SsnPorch  \\\n",
       "count      ...        1460.000000  1460.000000    1460.000000  1460.000000   \n",
       "mean       ...          94.244521    46.660274      21.954110     3.409589   \n",
       "std        ...         125.338794    66.256028      61.119149    29.317331   \n",
       "min        ...           0.000000     0.000000       0.000000     0.000000   \n",
       "25%        ...           0.000000     0.000000       0.000000     0.000000   \n",
       "50%        ...           0.000000    25.000000       0.000000     0.000000   \n",
       "75%        ...         168.000000    68.000000       0.000000     0.000000   \n",
       "max        ...         857.000000   547.000000     552.000000   508.000000   \n",
       "\n",
       "       ScreenPorch     PoolArea       MiscVal       MoSold       YrSold  \\\n",
       "count  1460.000000  1460.000000   1460.000000  1460.000000  1460.000000   \n",
       "mean     15.060959     2.758904     43.489041     6.321918  2007.815753   \n",
       "std      55.757415    40.177307    496.123024     2.703626     1.328095   \n",
       "min       0.000000     0.000000      0.000000     1.000000  2006.000000   \n",
       "25%       0.000000     0.000000      0.000000     5.000000  2007.000000   \n",
       "50%       0.000000     0.000000      0.000000     6.000000  2008.000000   \n",
       "75%       0.000000     0.000000      0.000000     8.000000  2009.000000   \n",
       "max     480.000000   738.000000  15500.000000    12.000000  2010.000000   \n",
       "\n",
       "           SalePrice  \n",
       "count    1460.000000  \n",
       "mean   180921.195890  \n",
       "std     79442.502883  \n",
       "min     34900.000000  \n",
       "25%    129975.000000  \n",
       "50%    163000.000000  \n",
       "75%    214000.000000  \n",
       "max    755000.000000  \n",
       "\n",
       "[8 rows x 38 columns]"
      ]
     },
     "execution_count": 17,
     "metadata": {},
     "output_type": "execute_result"
    }
   ],
   "source": [
    "#Exploring Data for Outliers\n",
    "train.describe()"
   ]
  },
  {
   "cell_type": "code",
   "execution_count": 18,
   "metadata": {
    "collapsed": true
   },
   "outputs": [],
   "source": [
    "#Replace top end outliers with median\n",
    "x_var_list = ['LotFrontage','LotArea','MasVnrArea','BsmtFinSF1','BsmtFinSF2','BsmtUnfSF','TotalBsmtSF','1stFlrSF','2ndFlrSF','LowQualFinSF','GrLivArea','BsmtFullBath',     \n",
    "'BsmtHalfBath','FullBath','HalfBath','BedroomAbvGr','KitchenAbvGr','TotRmsAbvGrd','Fireplaces','GarageYrBlt','GarageCars','GarageArea','WoodDeckSF','OpenPorchSF','EnclosedPorch','3SsnPorch','ScreenPorch','PoolArea','MiscVal']\n",
    "for g in range(0,len(x_var_list)):\n",
    "    A = train[x_var_list[g]].std()\n",
    "    C = train[x_var_list[g]].mean()\n",
    "    D = train[x_var_list[g]].median()\n",
    "    for r in range(0,len(train[x_var_list[g]])):\n",
    "        if train[x_var_list[g]].get_value(r)-C >= 3*A:\n",
    "            train.set_value(r,[x_var_list[g]],D)"
   ]
  },
  {
   "cell_type": "markdown",
   "metadata": {
    "collapsed": true
   },
   "source": [
    "# Test Data Cleaning"
   ]
  },
  {
   "cell_type": "code",
   "execution_count": 19,
   "metadata": {
    "scrolled": true
   },
   "outputs": [
    {
     "name": "stdout",
     "output_type": "stream",
     "text": [
      "<class 'pandas.core.frame.DataFrame'>\n",
      "RangeIndex: 1459 entries, 0 to 1458\n",
      "Data columns (total 80 columns):\n",
      "Id               1459 non-null int64\n",
      "MSSubClass       1459 non-null int64\n",
      "MSZoning         1455 non-null object\n",
      "LotFrontage      1232 non-null float64\n",
      "LotArea          1459 non-null int64\n",
      "Street           1459 non-null object\n",
      "Alley            107 non-null object\n",
      "LotShape         1459 non-null object\n",
      "LandContour      1459 non-null object\n",
      "Utilities        1457 non-null object\n",
      "LotConfig        1459 non-null object\n",
      "LandSlope        1459 non-null object\n",
      "Neighborhood     1459 non-null object\n",
      "Condition1       1459 non-null object\n",
      "Condition2       1459 non-null object\n",
      "BldgType         1459 non-null object\n",
      "HouseStyle       1459 non-null object\n",
      "OverallQual      1459 non-null int64\n",
      "OverallCond      1459 non-null int64\n",
      "YearBuilt        1459 non-null int64\n",
      "YearRemodAdd     1459 non-null int64\n",
      "RoofStyle        1459 non-null object\n",
      "RoofMatl         1459 non-null object\n",
      "Exterior1st      1458 non-null object\n",
      "Exterior2nd      1458 non-null object\n",
      "MasVnrType       1443 non-null object\n",
      "MasVnrArea       1444 non-null float64\n",
      "ExterQual        1459 non-null object\n",
      "ExterCond        1459 non-null object\n",
      "Foundation       1459 non-null object\n",
      "BsmtQual         1415 non-null object\n",
      "BsmtCond         1414 non-null object\n",
      "BsmtExposure     1415 non-null object\n",
      "BsmtFinType1     1417 non-null object\n",
      "BsmtFinSF1       1458 non-null float64\n",
      "BsmtFinType2     1417 non-null object\n",
      "BsmtFinSF2       1458 non-null float64\n",
      "BsmtUnfSF        1458 non-null float64\n",
      "TotalBsmtSF      1458 non-null float64\n",
      "Heating          1459 non-null object\n",
      "HeatingQC        1459 non-null object\n",
      "CentralAir       1459 non-null object\n",
      "Electrical       1459 non-null object\n",
      "1stFlrSF         1459 non-null int64\n",
      "2ndFlrSF         1459 non-null int64\n",
      "LowQualFinSF     1459 non-null int64\n",
      "GrLivArea        1459 non-null int64\n",
      "BsmtFullBath     1457 non-null float64\n",
      "BsmtHalfBath     1457 non-null float64\n",
      "FullBath         1459 non-null int64\n",
      "HalfBath         1459 non-null int64\n",
      "BedroomAbvGr     1459 non-null int64\n",
      "KitchenAbvGr     1459 non-null int64\n",
      "KitchenQual      1458 non-null object\n",
      "TotRmsAbvGrd     1459 non-null int64\n",
      "Functional       1457 non-null object\n",
      "Fireplaces       1459 non-null int64\n",
      "FireplaceQu      729 non-null object\n",
      "GarageType       1383 non-null object\n",
      "GarageYrBlt      1381 non-null float64\n",
      "GarageFinish     1381 non-null object\n",
      "GarageCars       1458 non-null float64\n",
      "GarageArea       1458 non-null float64\n",
      "GarageQual       1381 non-null object\n",
      "GarageCond       1381 non-null object\n",
      "PavedDrive       1459 non-null object\n",
      "WoodDeckSF       1459 non-null int64\n",
      "OpenPorchSF      1459 non-null int64\n",
      "EnclosedPorch    1459 non-null int64\n",
      "3SsnPorch        1459 non-null int64\n",
      "ScreenPorch      1459 non-null int64\n",
      "PoolArea         1459 non-null int64\n",
      "PoolQC           3 non-null object\n",
      "Fence            290 non-null object\n",
      "MiscFeature      51 non-null object\n",
      "MiscVal          1459 non-null int64\n",
      "MoSold           1459 non-null int64\n",
      "YrSold           1459 non-null int64\n",
      "SaleType         1458 non-null object\n",
      "SaleCondition    1459 non-null object\n",
      "dtypes: float64(11), int64(26), object(43)\n",
      "memory usage: 912.0+ KB\n"
     ]
    }
   ],
   "source": [
    "test.info()"
   ]
  },
  {
   "cell_type": "code",
   "execution_count": 20,
   "metadata": {
    "collapsed": true
   },
   "outputs": [],
   "source": [
    "#Replace crap in test set\n",
    "dum_list = ['MSZoning','Street','Alley','LotShape','LandContour','Utilities','LotConfig','LandSlope','Neighborhood','Condition1',\n",
    "            'Condition2','BldgType','HouseStyle','RoofStyle','RoofMatl','Exterior1st','Exterior2nd','MasVnrType','ExterQual',\n",
    "            'ExterCond','Foundation','BsmtQual','BsmtCond','BsmtFinType1','BsmtFinType2','Heating','HeatingQC',\n",
    "            'CentralAir','Electrical','KitchenQual','Functional','FireplaceQu','GarageType','GarageFinish','GarageQual','GarageCond',\n",
    "            'PavedDrive','PoolQC','Fence','MiscFeature','SaleType','SaleCondition','MSSubClass','OverallQual','OverallCond','YearBuilt','YearRemodAdd','BsmtFullBath','BsmtHalfBath','FullBath','HalfBath','BedroomAbvGr','KitchenAbvGr','TotRmsAbvGrd','Fireplaces','GarageYrBlt','GarageCars']\n",
    "\n",
    "for c in range(len(dum_list)):\n",
    "    test[dum_list[c]] = test[dum_list[c]].replace(',','')\n",
    "    test[dum_list[c]] = test[dum_list[c]].replace('<','')"
   ]
  },
  {
   "cell_type": "code",
   "execution_count": 21,
   "metadata": {
    "collapsed": true
   },
   "outputs": [],
   "source": [
    "#Regression model to predict missing LotFrontage \n",
    "\n",
    "#Separate data into train and test sets\n",
    "train_lot = test[np.isnan(test['LotFrontage']) == False]\n",
    "test_lot = test[np.isnan(test['LotFrontage']) == True]\n",
    "    \n",
    "#Convert categorical using get_dummies (train data) \n",
    "dum_list = ['LotConfig','LandSlope','LandContour']\n",
    "prefix_list = ['LotConfig','LandSlope','LandContour']\n",
    "merged_data_dums = pd.DataFrame(train_lot['LotArea'])\n",
    "for col in range(len(dum_list)):\n",
    "    dums = pd.get_dummies(train_lot[dum_list[col]].astype('category'), prefix = prefix_list[col], drop_first=True)\n",
    "    merged_data_dums = merged_data_dums.join(dums)\n",
    "    \n",
    "#Fit Lasso regression \n",
    "x = sm.add_constant(merged_data_dums)\n",
    "y = train_lot['LotFrontage']\n",
    "lassoreg = linear_model.Lasso()\n",
    "lassoreg.fit(x,y)\n",
    "\n",
    "#Convert categorical using get_dummies (test data) \n",
    "dum_list = ['LotConfig','LandSlope','LandContour']\n",
    "prefix_list = ['LotConfig','LandSlope','LandContour']\n",
    "merged_data_dums1 = pd.DataFrame(test_lot['LotArea'])\n",
    "for col in range(len(dum_list)):\n",
    "    dums = pd.get_dummies(test_lot[dum_list[col]].astype('category'), prefix = prefix_list[col], drop_first=True)\n",
    "    merged_data_dums1 = merged_data_dums1.join(dums)\n",
    "\n",
    "#Prdeict LotFrontage with Lasso regression \n",
    "X = sm.add_constant(merged_data_dums)\n",
    "lot_pred_lasso = lassoreg.predict(X)\n",
    "\n",
    "#Replace NaN LotFrontage with predicted values from Lasso regression\n",
    "d = 0\n",
    "for i in range(0,len(test)):\n",
    "    if np.isnan(test['LotFrontage'].get_value(i)) == True:\n",
    "        test.set_value(i,['LotFrontage'],lot_pred_lasso[d])\n",
    "        d = d + 1"
   ]
  },
  {
   "cell_type": "code",
   "execution_count": 22,
   "metadata": {
    "collapsed": true
   },
   "outputs": [],
   "source": [
    "#Alley\n",
    "alley_map = {np.NaN:'None'}\n",
    "test['Alley'] = test['Alley'].apply(lambda r:alley_map.get(r) if r in alley_map else r)"
   ]
  },
  {
   "cell_type": "code",
   "execution_count": 23,
   "metadata": {
    "collapsed": true
   },
   "outputs": [],
   "source": [
    "#Utilities\n",
    "mode_util = test['Utilities'].mode() \n",
    "util_map = {np.NaN:mode_util[0]}\n",
    "test['Utilities'] = test['Utilities'].apply(lambda r:util_map.get(r) if r in util_map else r)"
   ]
  },
  {
   "cell_type": "code",
   "execution_count": 24,
   "metadata": {
    "collapsed": true
   },
   "outputs": [],
   "source": [
    "#Exterior1st\n",
    "mode_ext1 = test['Exterior1st'].mode() \n",
    "ext1_map = {np.NaN:mode_ext1[0]}\n",
    "test['Exterior1st'] = test['Exterior1st'].apply(lambda r:ext1_map.get(r) if r in ext1_map else r)"
   ]
  },
  {
   "cell_type": "code",
   "execution_count": 25,
   "metadata": {
    "collapsed": true
   },
   "outputs": [],
   "source": [
    "#Exterior2nd\n",
    "mode_ext2 = test['Exterior2nd'].mode() \n",
    "ext2_map = {np.NaN:mode_ext2[0]}\n",
    "test['Exterior2nd'] = test['Exterior2nd'].apply(lambda r:ext2_map.get(r) if r in ext2_map else r)"
   ]
  },
  {
   "cell_type": "code",
   "execution_count": 26,
   "metadata": {
    "collapsed": true
   },
   "outputs": [],
   "source": [
    "#MasVnrType and MasVnrArea\n",
    "MasVnrType_index = test[test['MasVnrType'].isnull()].index.tolist()\n",
    "MasVnrArea_index = test[test['MasVnrArea'].isnull()].index.tolist()\n",
    "\n",
    "d = 0\n",
    "i = 0\n",
    "while i < len(MasVnrType_index) and d == 0:\n",
    "    if (MasVnrType_index[i]==MasVnrArea_index[i])==False:\n",
    "        MasVnrType_miss_index = MasVnrType_index[i]\n",
    "        MasVnrType_mode = test['MasVnrType'].mode() #No\n",
    "        test.set_value(MasVnrType_miss_index,['MasVnrType'],MasVnrType_mode)\n",
    "        d = 1\n",
    "    i = i + 1\n",
    "\n",
    "for i in range(0,len(test)):\n",
    "    if pd.isnull(test['MasVnrType'].get_value(i)):\n",
    "        test.set_value(i,['MasVnrType'],'None')\n",
    "        \n",
    "for i in range(0,len(test)):\n",
    "    if pd.isnull(test['MasVnrArea'].get_value(i)):\n",
    "        test.set_value(i,['MasVnrArea'],0)"
   ]
  },
  {
   "cell_type": "code",
   "execution_count": 27,
   "metadata": {
    "collapsed": true
   },
   "outputs": [],
   "source": [
    "#Find missing TotalBsmtSF, BsmtFinSF1, BsmtFinSF2, BsmtUnfSF and replace with median\n",
    "for i in range(0,len(test)):\n",
    "    m = pd.isnull(test['BsmtFinType1'].get_value(i)) == True\n",
    "    #BsmtFinType1 and BsmtFinType2 do not have any missing values. All null values from no basement.\n",
    "        #BsmtFinType1_index = test[test['BsmtFinType1'].isnull()].index.tolist()\n",
    "        #BsmtFinType2_index = test[test['BsmtFinType2'].isnull()].index.tolist()\n",
    "        #BsmtFinType1_index == BsmtFinType2_index # True\n",
    "    if pd.isnull(test['TotalBsmtSF'].get_value(i)) == True and m == True:\n",
    "        test.set_value(i,['TotalBsmtSF'],test['TotalBsmtSF'].median())\n",
    "    if pd.isnull(test['BsmtFinSF1'].get_value(i)) == True and m == True:\n",
    "        test.set_value(i,['BsmtFinSF1'],test['BsmtFinSF1'].median())   \n",
    "    if pd.isnull(test['BsmtFinSF2'].get_value(i)) == True and m == True:\n",
    "        test.set_value(i,['BsmtFinSF2'],test['BsmtFinSF2'].median())   \n",
    "    if pd.isnull(test['BsmtUnfSF'].get_value(i)) == True and m == True:\n",
    "        test.set_value(i,['BsmtUnfSF'],test['BsmtUnfSF'].median())"
   ]
  },
  {
   "cell_type": "code",
   "execution_count": 28,
   "metadata": {
    "collapsed": true
   },
   "outputs": [],
   "source": [
    "#Basement Features list of null values index\n",
    "BsmtQual_index = test[test['BsmtQual'].isnull()].index.tolist()\n",
    "BsmtCond_index = test[test['BsmtCond'].isnull()].index.tolist()\n",
    "BsmtExposure_index = test[test['BsmtExposure'].isnull()].index.tolist()\n",
    "BsmtFinType1_index = test[test['BsmtFinType1'].isnull()].index.tolist()\n",
    "BsmtFinSF1_index = test[test['BsmtFinSF1'].isnull()].index.tolist()\n",
    "BsmtFinType2_index = test[test['BsmtFinType2'].isnull()].index.tolist()\n",
    "BsmtFinSF2_index = test[test['BsmtFinSF2'].isnull()].index.tolist()\n",
    "BsmtUnfSF_index = test[test['BsmtUnfSF'].isnull()].index.tolist()\n",
    "TotalBsmtSF_index = test[test['TotalBsmtSF'].isnull()].index.tolist()\n",
    "    #Index lists show that null values are due to mising data in addition to homes without basements \n",
    "\n",
    "#Find and replace null values\n",
    "for i in range(0,len(test)):\n",
    "    if  test['TotalBsmtSF'].get_value(i) > 0: #Replace missing data with median or mode\n",
    "        if pd.isnull(test['BsmtQual'].get_value(i)) == True:\n",
    "            test.set_value(i,['BsmtQual'],test['BsmtQual'].mode)\n",
    "        if pd.isnull(test['BsmtCond'].get_value(i)) == True:\n",
    "            test.set_value(i,['BsmtCond'],test['BsmtCond'].mode)\n",
    "        if pd.isnull(test['BsmtExposure'].get_value(i)) == True:\n",
    "            test.set_value(i,['BsmtExposure'],test['BsmtExposure'].mode)\n",
    "        if pd.isnull(test['BsmtFinType1'].get_value(i)) == True:\n",
    "            test.set_value(i,['BsmtFinType1'],test['BsmtFinType1'].mode)\n",
    "        if pd.isnull(test['BsmtFinType2'].get_value(i)) == True:\n",
    "            test.set_value(i,['BsmtFinType2'],test['BsmtFinType2'].mode)\n",
    "        #TotalBsmtSF, BsmtFinSF1, BsmtFinSF2, BsmtUnfSF null values replaced with median in cell above\n",
    "    elif test['TotalBsmtSF'].get_value(i) == 0: #Replace data for homes without a basement with None\n",
    "        if pd.isnull(test['BsmtQual'].get_value(i)) == True:\n",
    "            test.set_value(i,['BsmtQual'],'None')\n",
    "        if pd.isnull(test['BsmtCond'].get_value(i)) == True:\n",
    "            test.set_value(i,['BsmtCond'],'None')\n",
    "        if pd.isnull(test['BsmtExposure'].get_value(i)) == True: \n",
    "            test.set_value(i,['BsmtExposure'],'None')\n",
    "        if pd.isnull(test['BsmtFinType1'].get_value(i)) == True: \n",
    "            test.set_value(i,['BsmtFinType1'],'None')\n",
    "        if pd.isnull(test['BsmtFinType2'].get_value(i)) == True: \n",
    "            test.set_value(i,['BsmtFinType2'],'None')"
   ]
  },
  {
   "cell_type": "code",
   "execution_count": 29,
   "metadata": {
    "collapsed": true
   },
   "outputs": [],
   "source": [
    "#BsmtFullBath and BsmtHalfBath\n",
    "for i in range(0,len(test)):\n",
    "    if pd.isnull(test['BsmtFullBath'].get_value(i)) == True and test['TotalBsmtSF'].get_value(i) > 0:\n",
    "        test.set_value(i,['BsmtFullBath'],test['BsmtFullBath'].median())\n",
    "    elif pd.isnull(test['BsmtFullBath'].get_value(i)) == True and test['TotalBsmtSF'].get_value(i) == 0:\n",
    "        test.set_value(i,['BsmtFullBath'],0)\n",
    "        \n",
    "for i in range(0,len(test)):\n",
    "    if pd.isnull(test['BsmtHalfBath'].get_value(i)) == True and test['TotalBsmtSF'].get_value(i) > 0:\n",
    "        test.set_value(i,['BsmtHalfBath'],test['BsmtHalfBath'].median())\n",
    "    elif pd.isnull(test['BsmtHalfBath'].get_value(i)) == True and test['TotalBsmtSF'].get_value(i) == 0:\n",
    "        test.set_value(i,['BsmtHalfBath'],0)"
   ]
  },
  {
   "cell_type": "code",
   "execution_count": 30,
   "metadata": {
    "collapsed": true
   },
   "outputs": [],
   "source": [
    "#KitchenQual\n",
    "for i in range(0,len(test)):\n",
    "    if pd.isnull(test['KitchenQual'].get_value(i)):\n",
    "        test.set_value(i,['KitchenQual'],test['KitchenQual'].mode())"
   ]
  },
  {
   "cell_type": "code",
   "execution_count": 31,
   "metadata": {
    "collapsed": true
   },
   "outputs": [],
   "source": [
    "#Functional\n",
    "for i in range(0,len(test)):\n",
    "    if pd.isnull(test['Functional'].get_value(i)):\n",
    "        test.set_value(i,['Functional'],'None')"
   ]
  },
  {
   "cell_type": "code",
   "execution_count": 32,
   "metadata": {
    "collapsed": true
   },
   "outputs": [],
   "source": [
    "#FireplaceQu\n",
    "for i in range(0,len(test)):\n",
    "    if pd.isnull(test['FireplaceQu'].get_value(i)):\n",
    "        test.set_value(i,['FireplaceQu'],'None')"
   ]
  },
  {
   "cell_type": "code",
   "execution_count": 33,
   "metadata": {
    "collapsed": true
   },
   "outputs": [],
   "source": [
    "#PoolQC\n",
    "for i in range(0,len(test)):\n",
    "    if pd.isnull(test['PoolQC'].get_value(i)):\n",
    "        test.set_value(i,['PoolQC'],'None')"
   ]
  },
  {
   "cell_type": "code",
   "execution_count": 34,
   "metadata": {
    "collapsed": true
   },
   "outputs": [],
   "source": [
    "#Fence\n",
    "for i in range(0,len(test)):\n",
    "    if pd.isnull(test['Fence'].get_value(i)):\n",
    "        test.set_value(i,['Fence'],'None')"
   ]
  },
  {
   "cell_type": "code",
   "execution_count": 35,
   "metadata": {
    "collapsed": true
   },
   "outputs": [],
   "source": [
    "#MiscFeature\n",
    "for i in range(0,len(test)):\n",
    "    if pd.isnull(test['MiscFeature'].get_value(i)):\n",
    "        test.set_value(i,['MiscFeature'],'None')"
   ]
  },
  {
   "cell_type": "code",
   "execution_count": 36,
   "metadata": {
    "collapsed": true
   },
   "outputs": [],
   "source": [
    "#SaleType\n",
    "for i in range(0,len(test)):\n",
    "    if pd.isnull(test['SaleType'].get_value(i)):\n",
    "        test.set_value(i,['SaleType'],test['SaleType'].mode())"
   ]
  },
  {
   "cell_type": "code",
   "execution_count": 37,
   "metadata": {
    "collapsed": true
   },
   "outputs": [],
   "source": [
    "#MSZoning\n",
    "mode_zone = test['MSZoning'].mode() \n",
    "zone_map = {np.NaN:mode_zone}\n",
    "test['MSZoning'] = test['MSZoning'].apply(lambda r:zone_map.get(r) if r in zone_map else r)"
   ]
  },
  {
   "cell_type": "code",
   "execution_count": 38,
   "metadata": {
    "collapsed": true
   },
   "outputs": [],
   "source": [
    "#GarageCars       1458 non-null float64\n",
    "#GarageArea       1458 non-null float64\n",
    "\n",
    "#Replace missing GarageCars and GarageArea with median\n",
    "GarageCars_index = test[test['GarageCars'].isnull()].index.tolist()\n",
    "GarageArea_index = test[test['GarageArea'].isnull()].index.tolist()\n",
    "test.set_value(GarageCars_index,['GarageCars'],0)\n",
    "test.set_value(GarageArea_index,['GarageArea'],0)\n",
    "\n",
    "#GarageQual       1381 non-null object\n",
    "#GarageCond       1381 non-null object\n",
    "#GarageFinish     1381 non-null object\n",
    "#GarageYrBlt      1381 non-null float64\n",
    "#GarageType       1383 non-null object\n",
    "\n",
    "GarageQual_index = test[test['GarageQual'].isnull()].index.tolist()\n",
    "GarageCond_index = test[test['GarageCond'].isnull()].index.tolist()\n",
    "GarageFinish_index = test[test['GarageFinish'].isnull()].index.tolist()\n",
    "GarageYrBlt_index = test[test['GarageYrBlt'].isnull()].index.tolist()\n",
    "GarageType_index = test[test['GarageType'].isnull()].index.tolist()\n",
    "\n",
    "GarageQual_index == GarageCond_index == GarageFinish_index == GarageYrBlt_index\n",
    "    #True\n",
    "\n",
    "for i in range(0,len(test)):\n",
    "    if pd.isnull(test['GarageType'].get_value(i)) == False and pd.isnull(test['GarageQual'].get_value(i)) == True:\n",
    "        test.set_value(i,['GarageQual'],test['GarageQual'].mode)\n",
    "\n",
    "for i in range(0,len(test)):\n",
    "    if pd.isnull(test['GarageQual'].get_value(i)):\n",
    "        test.set_value(i,['GarageQual'],'None')\n",
    "        \n",
    "for i in range(0,len(test)):\n",
    "    if pd.isnull(test['GarageType'].get_value(i)) == False and pd.isnull(test['GarageCond'].get_value(i)) == True:\n",
    "        test.set_value(i,['GarageCond'],test['GarageCond'].mode)\n",
    "\n",
    "for i in range(0,len(test)):\n",
    "    if pd.isnull(test['GarageCond'].get_value(i)):\n",
    "        test.set_value(i,['GarageCond'],'None')\n",
    "        \n",
    "for i in range(0,len(test)):\n",
    "    if pd.isnull(test['GarageType'].get_value(i)) == False and pd.isnull(test['GarageFinish'].get_value(i)) == True:\n",
    "        test.set_value(i,['GarageFinish'],test['GarageFinish'].mode)\n",
    "\n",
    "for i in range(0,len(test)):\n",
    "    if pd.isnull(test['GarageFinish'].get_value(i)):\n",
    "        test.set_value(i,['GarageFinish'],'None')\n",
    "        \n",
    "for i in range(0,len(test)):\n",
    "    if pd.isnull(test['GarageType'].get_value(i)) == False and pd.isnull(test['GarageYrBlt'].get_value(i)) == True:\n",
    "        test.set_value(i,['GarageYrBlt'],test['GarageYrBlt'].median())\n",
    "        \n",
    "for i in range(0,len(test)):\n",
    "    if pd.isnull(test['GarageYrBlt'].get_value(i)):\n",
    "        test.set_value(i,['GarageYrBlt'],0)\n",
    "\n",
    "for i in range(0,len(test)):\n",
    "    if pd.isnull(test['GarageType'].get_value(i)):\n",
    "        test.set_value(i,['GarageType'],'None')"
   ]
  },
  {
   "cell_type": "code",
   "execution_count": 39,
   "metadata": {
    "collapsed": true
   },
   "outputs": [],
   "source": [
    "#Replace top end outliers with median\n",
    "x_var_list = ['LotFrontage','LotArea','MasVnrArea','BsmtFinSF1','BsmtFinSF2','BsmtUnfSF','TotalBsmtSF','1stFlrSF','2ndFlrSF','LowQualFinSF','GrLivArea','BsmtFullBath',     \n",
    "'BsmtHalfBath','FullBath','HalfBath','BedroomAbvGr','KitchenAbvGr','TotRmsAbvGrd','Fireplaces','GarageYrBlt','GarageCars','GarageArea','WoodDeckSF','OpenPorchSF','EnclosedPorch','3SsnPorch','ScreenPorch','PoolArea','MiscVal']\n",
    "for g in range(0,len(x_var_list)):\n",
    "    A = test[x_var_list[g]].std()\n",
    "    C = test[x_var_list[g]].mean()\n",
    "    D = test[x_var_list[g]].median()\n",
    "    for r in range(0,len(test[x_var_list[g]])):\n",
    "        if test[x_var_list[g]].get_value(r)-C >= 3*A:\n",
    "            test.set_value(r,[x_var_list[g]],D)"
   ]
  },
  {
   "cell_type": "code",
   "execution_count": 40,
   "metadata": {},
   "outputs": [
    {
     "name": "stdout",
     "output_type": "stream",
     "text": [
      "<class 'pandas.core.frame.DataFrame'>\n",
      "RangeIndex: 1459 entries, 0 to 1458\n",
      "Data columns (total 80 columns):\n",
      "Id               1459 non-null int64\n",
      "MSSubClass       1459 non-null int64\n",
      "MSZoning         1459 non-null object\n",
      "LotFrontage      1459 non-null float64\n",
      "LotArea          1459 non-null float64\n",
      "Street           1459 non-null object\n",
      "Alley            1459 non-null object\n",
      "LotShape         1459 non-null object\n",
      "LandContour      1459 non-null object\n",
      "Utilities        1459 non-null object\n",
      "LotConfig        1459 non-null object\n",
      "LandSlope        1459 non-null object\n",
      "Neighborhood     1459 non-null object\n",
      "Condition1       1459 non-null object\n",
      "Condition2       1459 non-null object\n",
      "BldgType         1459 non-null object\n",
      "HouseStyle       1459 non-null object\n",
      "OverallQual      1459 non-null int64\n",
      "OverallCond      1459 non-null int64\n",
      "YearBuilt        1459 non-null int64\n",
      "YearRemodAdd     1459 non-null int64\n",
      "RoofStyle        1459 non-null object\n",
      "RoofMatl         1459 non-null object\n",
      "Exterior1st      1459 non-null object\n",
      "Exterior2nd      1459 non-null object\n",
      "MasVnrType       1459 non-null object\n",
      "MasVnrArea       1459 non-null float64\n",
      "ExterQual        1459 non-null object\n",
      "ExterCond        1459 non-null object\n",
      "Foundation       1459 non-null object\n",
      "BsmtQual         1459 non-null object\n",
      "BsmtCond         1459 non-null object\n",
      "BsmtExposure     1459 non-null object\n",
      "BsmtFinType1     1459 non-null object\n",
      "BsmtFinSF1       1459 non-null float64\n",
      "BsmtFinType2     1459 non-null object\n",
      "BsmtFinSF2       1459 non-null float64\n",
      "BsmtUnfSF        1459 non-null float64\n",
      "TotalBsmtSF      1459 non-null float64\n",
      "Heating          1459 non-null object\n",
      "HeatingQC        1459 non-null object\n",
      "CentralAir       1459 non-null object\n",
      "Electrical       1459 non-null object\n",
      "1stFlrSF         1459 non-null float64\n",
      "2ndFlrSF         1459 non-null float64\n",
      "LowQualFinSF     1459 non-null float64\n",
      "GrLivArea        1459 non-null float64\n",
      "BsmtFullBath     1459 non-null float64\n",
      "BsmtHalfBath     1459 non-null float64\n",
      "FullBath         1459 non-null float64\n",
      "HalfBath         1459 non-null float64\n",
      "BedroomAbvGr     1459 non-null float64\n",
      "KitchenAbvGr     1459 non-null float64\n",
      "KitchenQual      1459 non-null object\n",
      "TotRmsAbvGrd     1459 non-null float64\n",
      "Functional       1459 non-null object\n",
      "Fireplaces       1459 non-null float64\n",
      "FireplaceQu      1459 non-null object\n",
      "GarageType       1459 non-null object\n",
      "GarageYrBlt      1459 non-null float64\n",
      "GarageFinish     1459 non-null object\n",
      "GarageCars       1459 non-null float64\n",
      "GarageArea       1459 non-null float64\n",
      "GarageQual       1459 non-null object\n",
      "GarageCond       1459 non-null object\n",
      "PavedDrive       1459 non-null object\n",
      "WoodDeckSF       1459 non-null float64\n",
      "OpenPorchSF      1459 non-null float64\n",
      "EnclosedPorch    1459 non-null float64\n",
      "3SsnPorch        1459 non-null float64\n",
      "ScreenPorch      1459 non-null float64\n",
      "PoolArea         1459 non-null float64\n",
      "PoolQC           1459 non-null object\n",
      "Fence            1459 non-null object\n",
      "MiscFeature      1459 non-null object\n",
      "MiscVal          1459 non-null float64\n",
      "MoSold           1459 non-null int64\n",
      "YrSold           1459 non-null int64\n",
      "SaleType         1459 non-null object\n",
      "SaleCondition    1459 non-null object\n",
      "dtypes: float64(29), int64(8), object(43)\n",
      "memory usage: 912.0+ KB\n"
     ]
    }
   ],
   "source": [
    "#train['Exterior2nd'].unique()\n",
    "test.info()"
   ]
  },
  {
   "cell_type": "markdown",
   "metadata": {},
   "source": [
    "# Baseline - GBR vs XGBR"
   ]
  },
  {
   "cell_type": "code",
   "execution_count": 41,
   "metadata": {
    "collapsed": true
   },
   "outputs": [],
   "source": [
    "#Convert categorical using get_dummies (train data)\n",
    "\n",
    "cols = ['GarageYrBlt']\n",
    "for c in range(len(cols)):\n",
    "    train[cols[c]] = pd.to_numeric(train[cols[c]],downcast='integer')  \n",
    "\n",
    "dum_list = ['MSZoning','Street','Alley','LotShape','LandContour','LotConfig','LandSlope','Neighborhood','Condition1',\n",
    "            'Condition2','BldgType','HouseStyle','RoofStyle','RoofMatl','Exterior1st','Exterior2nd','MasVnrType','ExterQual',\n",
    "            'ExterCond','Foundation','BsmtQual','BsmtCond','BsmtFinType1','BsmtFinType2','Heating','HeatingQC',\n",
    "            'CentralAir','Electrical','KitchenQual','Functional','FireplaceQu','GarageType','GarageFinish','GarageQual','GarageCond',\n",
    "            'PavedDrive','PoolQC','Fence','MiscFeature','SaleType','SaleCondition','MSSubClass','OverallQual','OverallCond','YearBuilt','YearRemodAdd','BsmtFullBath','BsmtHalfBath','FullBath','HalfBath','BedroomAbvGr','KitchenAbvGr','TotRmsAbvGrd','Fireplaces','GarageYrBlt','GarageCars']\n",
    "        \n",
    "merged_data_dums = pd.DataFrame(train[['LotFrontage','LotArea','MasVnrArea','BsmtFinSF1','BsmtFinSF2','BsmtUnfSF','TotalBsmtSF','1stFlrSF','2ndFlrSF','LowQualFinSF','GrLivArea','GarageArea','WoodDeckSF','OpenPorchSF','EnclosedPorch','3SsnPorch','ScreenPorch','PoolArea','MiscVal','MoSold','YrSold']])\n",
    "for col in range(len(dum_list)):\n",
    "    dums = pd.get_dummies(train[dum_list[col]].astype('str'),prefix = dum_list[col],drop_first=True)\n",
    "    merged_data_dums = merged_data_dums.join(dums)"
   ]
  },
  {
   "cell_type": "code",
   "execution_count": 42,
   "metadata": {},
   "outputs": [
    {
     "name": "stderr",
     "output_type": "stream",
     "text": [
      "C:\\Users\\Magu\\Anaconda3\\lib\\site-packages\\sklearn\\model_selection\\_split.py:2026: FutureWarning: From version 0.21, test_size will always complement train_size unless both are specified.\n",
      "  FutureWarning)\n"
     ]
    }
   ],
   "source": [
    "#Train Test Split\n",
    "x = merged_data_dums\n",
    "y = train.SalePrice\n",
    "x_train,x_test, y_train, y_test = train_test_split(x,y,train_size = 0.6,random_state=0)"
   ]
  },
  {
   "cell_type": "code",
   "execution_count": 43,
   "metadata": {},
   "outputs": [
    {
     "name": "stdout",
     "output_type": "stream",
     "text": [
      "0.145778916299\n",
      "0.820802637292\n"
     ]
    }
   ],
   "source": [
    "#GradientBoostingRegressor Fit and Predict\n",
    "clf = GradientBoostingRegressor()\n",
    "clf = clf.fit(x_train,y_train)\n",
    "y_pred = clf.predict(x_test)\n",
    "print(mean_squared_error(np.log(y_test), np.log(y_pred))**0.5)\n",
    "print(r2_score(y_test, y_pred))"
   ]
  },
  {
   "cell_type": "code",
   "execution_count": 44,
   "metadata": {
    "scrolled": true
   },
   "outputs": [
    {
     "name": "stdout",
     "output_type": "stream",
     "text": [
      "Requirement already satisfied: xgboost==0.7 from file:///C:/Users/Magu/Magpie/PBL%202%20Advanced%20Housing%20Pricing%20Project/xgboost-0.7-cp36-cp36m-win_amd64.whl in c:\\users\\magu\\anaconda3\\lib\\site-packages\n",
      "Requirement already satisfied: scipy in c:\\users\\magu\\anaconda3\\lib\\site-packages (from xgboost==0.7)\n",
      "Requirement already satisfied: numpy in c:\\users\\magu\\anaconda3\\lib\\site-packages (from xgboost==0.7)\n"
     ]
    }
   ],
   "source": [
    "#Load xgboost\n",
    "#https://www.lfd.uci.edu/~gohlke/pythonlibs/#xgboost\n",
    "!pip install xgboost-0.7-cp36-cp36m-win_amd64.whl\n",
    "import xgboost\n",
    "from xgboost import plot_importance"
   ]
  },
  {
   "cell_type": "code",
   "execution_count": 45,
   "metadata": {},
   "outputs": [
    {
     "name": "stdout",
     "output_type": "stream",
     "text": [
      "0.136832020265\n",
      "0.842410431967\n"
     ]
    }
   ],
   "source": [
    "#XGBoostRegressor Fit and Predict\n",
    "xgb = xgboost.XGBRegressor(n_estimators=100, learning_rate=0.09, gamma=0, subsample=0.9,colsample_bytree=1, max_depth=7)\n",
    "xgb.fit(x_train,y_train)\n",
    "y_pred = xgb.predict(x_test)\n",
    "print(mean_squared_error(np.log(y_test), np.log(y_pred))**0.5)\n",
    "print(r2_score(y_test, y_pred))"
   ]
  },
  {
   "cell_type": "markdown",
   "metadata": {
    "collapsed": true
   },
   "source": [
    "# Feature Importance"
   ]
  },
  {
   "cell_type": "code",
   "execution_count": 46,
   "metadata": {},
   "outputs": [
    {
     "name": "stderr",
     "output_type": "stream",
     "text": [
      "C:\\Users\\Magu\\Anaconda3\\lib\\site-packages\\sklearn\\model_selection\\_split.py:2026: FutureWarning: From version 0.21, test_size will always complement train_size unless both are specified.\n",
      "  FutureWarning)\n"
     ]
    },
    {
     "name": "stdout",
     "output_type": "stream",
     "text": [
      "0.136706464226\n",
      "0.858405279891\n"
     ]
    }
   ],
   "source": [
    "#Feature Importance\n",
    "\n",
    "feat = xgb.feature_importances_\n",
    "#array([ 0.12589832,  0.07026883,  0.02901251,  0.0449827 ,  0.0053234 ,\n",
    "#        0.04099015,  0.04551504,  0.02794783,  0.0167687 ,  0.        ,\n",
    "#        0.04791057,  0.04019164,  0.01969657,  0.02155975,  0.00638808,\n",
    "#        0.        ,  0.00159702,  0.        ,  0.00079851,  0.028214  ,\n",
    "\n",
    "#Reset training data based on feature importance\n",
    "X = x.filter(x.columns[np.nonzero(feat)],axis=1)\n",
    "\n",
    "#Train Test Split\n",
    "x_train,x_test, y_train, y_test = train_test_split(X,y,train_size = 0.6,random_state=0)\n",
    "\n",
    "#XGBoostRegressor Fit and Predict\n",
    "xgb = xgboost.XGBRegressor(n_estimators=100, learning_rate=0.09, gamma=0, subsample=0.9,colsample_bytree=1, max_depth=7)\n",
    "#increase max depth\n",
    "xgb.fit(x_train,y_train)\n",
    "y_pred = xgb.predict(x_test)\n",
    "print(mean_squared_error(np.log(y_test), np.log(y_pred))**0.5)\n",
    "print(r2_score(y_test, y_pred))"
   ]
  },
  {
   "cell_type": "markdown",
   "metadata": {},
   "source": [
    "# Predict Sale Price"
   ]
  },
  {
   "cell_type": "code",
   "execution_count": 47,
   "metadata": {
    "collapsed": true
   },
   "outputs": [],
   "source": [
    "#Convert categorical using get_dummies (test data)\n",
    "\n",
    "cols = ['GarageCars','FullBath','LotFrontage','LotArea','MasVnrArea','BsmtFinSF1','BsmtFinSF2','BsmtUnfSF','TotalBsmtSF','1stFlrSF','2ndFlrSF','LowQualFinSF','GrLivArea','MoSold','YrSold','GarageYrBlt']\n",
    "for c in range(len(cols)):\n",
    "    test[cols[c]] = pd.to_numeric(test[cols[c]],downcast='integer')  \n",
    "    \n",
    "merged_data_dums = pd.DataFrame(test[['LotFrontage','LotArea','MasVnrArea','BsmtFinSF1','BsmtFinSF2','BsmtUnfSF','TotalBsmtSF','1stFlrSF','2ndFlrSF','LowQualFinSF','GrLivArea','GarageArea','WoodDeckSF','OpenPorchSF','EnclosedPorch','3SsnPorch','ScreenPorch','PoolArea','MiscVal','MoSold','YrSold']])\n",
    "\n",
    "for col in range(len(dum_list)):\n",
    "    dums = pd.get_dummies(test[dum_list[col]].astype('str'),prefix = dum_list[col],drop_first=True)\n",
    "    merged_data_dums = merged_data_dums.join(dums)    "
   ]
  },
  {
   "cell_type": "code",
   "execution_count": 48,
   "metadata": {},
   "outputs": [
    {
     "ename": "ValueError",
     "evalue": "feature_names may not contain [, ] or <",
     "output_type": "error",
     "traceback": [
      "\u001b[1;31m---------------------------------------------------------------------------\u001b[0m",
      "\u001b[1;31mValueError\u001b[0m                                Traceback (most recent call last)",
      "\u001b[1;32m<ipython-input-48-3a73a5e08555>\u001b[0m in \u001b[0;36m<module>\u001b[1;34m()\u001b[0m\n\u001b[0;32m      3\u001b[0m \u001b[0mxgb\u001b[0m\u001b[1;33m.\u001b[0m\u001b[0mfit\u001b[0m\u001b[1;33m(\u001b[0m\u001b[0mx\u001b[0m\u001b[1;33m,\u001b[0m\u001b[0mtrain\u001b[0m\u001b[1;33m.\u001b[0m\u001b[0mSalePrice\u001b[0m\u001b[1;33m)\u001b[0m\u001b[1;33m\u001b[0m\u001b[0m\n\u001b[0;32m      4\u001b[0m \u001b[0mXx\u001b[0m \u001b[1;33m=\u001b[0m \u001b[0mmerged_data_dums\u001b[0m\u001b[1;33m\u001b[0m\u001b[0m\n\u001b[1;32m----> 5\u001b[1;33m \u001b[0my_pred\u001b[0m \u001b[1;33m=\u001b[0m \u001b[0mxgb\u001b[0m\u001b[1;33m.\u001b[0m\u001b[0mpredict\u001b[0m\u001b[1;33m(\u001b[0m\u001b[0mXx\u001b[0m\u001b[1;33m)\u001b[0m\u001b[1;33m\u001b[0m\u001b[0m\n\u001b[0m",
      "\u001b[1;32m~\\Anaconda3\\lib\\site-packages\\xgboost\\sklearn.py\u001b[0m in \u001b[0;36mpredict\u001b[1;34m(self, data, output_margin, ntree_limit)\u001b[0m\n\u001b[0;32m    307\u001b[0m     \u001b[1;32mdef\u001b[0m \u001b[0mpredict\u001b[0m\u001b[1;33m(\u001b[0m\u001b[0mself\u001b[0m\u001b[1;33m,\u001b[0m \u001b[0mdata\u001b[0m\u001b[1;33m,\u001b[0m \u001b[0moutput_margin\u001b[0m\u001b[1;33m=\u001b[0m\u001b[1;32mFalse\u001b[0m\u001b[1;33m,\u001b[0m \u001b[0mntree_limit\u001b[0m\u001b[1;33m=\u001b[0m\u001b[1;36m0\u001b[0m\u001b[1;33m)\u001b[0m\u001b[1;33m:\u001b[0m\u001b[1;33m\u001b[0m\u001b[0m\n\u001b[0;32m    308\u001b[0m         \u001b[1;31m# pylint: disable=missing-docstring,invalid-name\u001b[0m\u001b[1;33m\u001b[0m\u001b[1;33m\u001b[0m\u001b[0m\n\u001b[1;32m--> 309\u001b[1;33m         \u001b[0mtest_dmatrix\u001b[0m \u001b[1;33m=\u001b[0m \u001b[0mDMatrix\u001b[0m\u001b[1;33m(\u001b[0m\u001b[0mdata\u001b[0m\u001b[1;33m,\u001b[0m \u001b[0mmissing\u001b[0m\u001b[1;33m=\u001b[0m\u001b[0mself\u001b[0m\u001b[1;33m.\u001b[0m\u001b[0mmissing\u001b[0m\u001b[1;33m,\u001b[0m \u001b[0mnthread\u001b[0m\u001b[1;33m=\u001b[0m\u001b[0mself\u001b[0m\u001b[1;33m.\u001b[0m\u001b[0mn_jobs\u001b[0m\u001b[1;33m)\u001b[0m\u001b[1;33m\u001b[0m\u001b[0m\n\u001b[0m\u001b[0;32m    310\u001b[0m         return self.get_booster().predict(test_dmatrix,\n\u001b[0;32m    311\u001b[0m                                           \u001b[0moutput_margin\u001b[0m\u001b[1;33m=\u001b[0m\u001b[0moutput_margin\u001b[0m\u001b[1;33m,\u001b[0m\u001b[1;33m\u001b[0m\u001b[0m\n",
      "\u001b[1;32m~\\Anaconda3\\lib\\site-packages\\xgboost\\core.py\u001b[0m in \u001b[0;36m__init__\u001b[1;34m(self, data, label, missing, weight, silent, feature_names, feature_types, nthread)\u001b[0m\n\u001b[0;32m    296\u001b[0m                 \u001b[0mself\u001b[0m\u001b[1;33m.\u001b[0m\u001b[0mset_weight\u001b[0m\u001b[1;33m(\u001b[0m\u001b[0mweight\u001b[0m\u001b[1;33m)\u001b[0m\u001b[1;33m\u001b[0m\u001b[0m\n\u001b[0;32m    297\u001b[0m \u001b[1;33m\u001b[0m\u001b[0m\n\u001b[1;32m--> 298\u001b[1;33m         \u001b[0mself\u001b[0m\u001b[1;33m.\u001b[0m\u001b[0mfeature_names\u001b[0m \u001b[1;33m=\u001b[0m \u001b[0mfeature_names\u001b[0m\u001b[1;33m\u001b[0m\u001b[0m\n\u001b[0m\u001b[0;32m    299\u001b[0m         \u001b[0mself\u001b[0m\u001b[1;33m.\u001b[0m\u001b[0mfeature_types\u001b[0m \u001b[1;33m=\u001b[0m \u001b[0mfeature_types\u001b[0m\u001b[1;33m\u001b[0m\u001b[0m\n\u001b[0;32m    300\u001b[0m \u001b[1;33m\u001b[0m\u001b[0m\n",
      "\u001b[1;32m~\\Anaconda3\\lib\\site-packages\\xgboost\\core.py\u001b[0m in \u001b[0;36mfeature_names\u001b[1;34m(self, feature_names)\u001b[0m\n\u001b[0;32m    665\u001b[0m                        \u001b[1;32mnot\u001b[0m \u001b[0many\u001b[0m\u001b[1;33m(\u001b[0m\u001b[0mx\u001b[0m \u001b[1;32min\u001b[0m \u001b[0mf\u001b[0m \u001b[1;32mfor\u001b[0m \u001b[0mx\u001b[0m \u001b[1;32min\u001b[0m \u001b[0mset\u001b[0m\u001b[1;33m(\u001b[0m\u001b[1;33m(\u001b[0m\u001b[1;34m'['\u001b[0m\u001b[1;33m,\u001b[0m \u001b[1;34m']'\u001b[0m\u001b[1;33m,\u001b[0m \u001b[1;34m'<'\u001b[0m\u001b[1;33m)\u001b[0m\u001b[1;33m)\u001b[0m\u001b[1;33m)\u001b[0m\u001b[1;33m\u001b[0m\u001b[0m\n\u001b[0;32m    666\u001b[0m                        for f in feature_names):\n\u001b[1;32m--> 667\u001b[1;33m                 \u001b[1;32mraise\u001b[0m \u001b[0mValueError\u001b[0m\u001b[1;33m(\u001b[0m\u001b[1;34m'feature_names may not contain [, ] or <'\u001b[0m\u001b[1;33m)\u001b[0m\u001b[1;33m\u001b[0m\u001b[0m\n\u001b[0m\u001b[0;32m    668\u001b[0m         \u001b[1;32melse\u001b[0m\u001b[1;33m:\u001b[0m\u001b[1;33m\u001b[0m\u001b[0m\n\u001b[0;32m    669\u001b[0m             \u001b[1;31m# reset feature_types also\u001b[0m\u001b[1;33m\u001b[0m\u001b[1;33m\u001b[0m\u001b[0m\n",
      "\u001b[1;31mValueError\u001b[0m: feature_names may not contain [, ] or <"
     ]
    }
   ],
   "source": [
    "#XGBoostRegressor Fit and Predict\n",
    "xgb = xgboost.XGBRegressor(n_estimators=100, learning_rate=0.09, gamma=0, subsample=0.9,colsample_bytree=1, max_depth=7)\n",
    "xgb.fit(x,train.SalePrice)\n",
    "Xx = merged_data_dums\n",
    "y_pred = xgb.predict(Xx)"
   ]
  },
  {
   "cell_type": "code",
   "execution_count": null,
   "metadata": {
    "collapsed": true
   },
   "outputs": [],
   "source": [
    "#Feature Engineering - TBD \n",
    "#x_sqrd = pd.DataFrame(train[['LotFrontage','LotArea','MasVnrArea','BsmtFinSF1','BsmtFinSF2','BsmtUnfSF','TotalBsmtSF','1stFlrSF','2ndFlrSF','LowQualFinSF','GrLivArea','GarageArea','WoodDeckSF','OpenPorchSF','EnclosedPorch','3SsnPorch','ScreenPorch','PoolArea']]**2)\n",
    "#x_sqrt = pd.DataFrame(train[['LotFrontage','LotArea','MasVnrArea','BsmtFinSF1','BsmtFinSF2','BsmtUnfSF','TotalBsmtSF','1stFlrSF','2ndFlrSF','LowQualFinSF','GrLivArea','GarageArea','WoodDeckSF','OpenPorchSF','EnclosedPorch','3SsnPorch','ScreenPorch','PoolArea']]**(1/2))"
   ]
  },
  {
   "cell_type": "code",
   "execution_count": null,
   "metadata": {
    "collapsed": true
   },
   "outputs": [],
   "source": [
    "#Optimize with GridSearchCV\n"
   ]
  },
  {
   "cell_type": "code",
   "execution_count": null,
   "metadata": {
    "collapsed": true
   },
   "outputs": [],
   "source": [
    "#Export predicitons to csv\n",
    "sub = pd.DataFrame(OrderedDict({'Id':test.Id,'SalePrice':y_pred}))\n",
    "sub.to_csv('house_price_v6.csv', index=False)"
   ]
  }
 ],
 "metadata": {
  "kernelspec": {
   "display_name": "Python 3",
   "language": "python",
   "name": "python3"
  },
  "language_info": {
   "codemirror_mode": {
    "name": "ipython",
    "version": 3
   },
   "file_extension": ".py",
   "mimetype": "text/x-python",
   "name": "python",
   "nbconvert_exporter": "python",
   "pygments_lexer": "ipython3",
   "version": "3.6.3"
  }
 },
 "nbformat": 4,
 "nbformat_minor": 2
}
