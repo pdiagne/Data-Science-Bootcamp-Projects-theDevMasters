{
 "cells": [
  {
   "cell_type": "code",
   "execution_count": 52,
   "metadata": {
    "collapsed": true
   },
   "outputs": [],
   "source": [
    "#Load packages\n",
    "from sklearn.cluster import KMeans\n",
    "import matplotlib.pyplot as plt\n",
    "import pandas as pd\n",
    "import numpy as np\n",
    "from sklearn.preprocessing import scale\n",
    "%matplotlib inline\n",
    "import seaborn\n",
    "from sklearn.model_selection import KFold\n",
    "from sklearn.model_selection import train_test_split\n",
    "from sklearn.metrics import mean_squared_error, r2_score\n",
    "from sklearn.metrics import accuracy_score\n",
    "from sklearn.metrics import precision_score\n",
    "from sklearn.metrics import recall_score\n",
    "from sklearn.datasets import make_classification\n",
    "import statsmodels.api as sm\n",
    "import functools as ft\n",
    "from sklearn.naive_bayes import GaussianNB\n",
    "from sklearn import tree\n",
    "from sklearn.ensemble import RandomForestClassifier\n",
    "from sklearn.ensemble import GradientBoostingClassifier\n",
    "from sklearn.metrics import confusion_matrix\n",
    "from collections import OrderedDict"
   ]
  },
  {
   "cell_type": "code",
   "execution_count": 2,
   "metadata": {},
   "outputs": [
    {
     "name": "stderr",
     "output_type": "stream",
     "text": [
      "C:\\Users\\Magu\\Anaconda3\\lib\\site-packages\\IPython\\core\\interactiveshell.py:2698: DtypeWarning: Columns (16) have mixed types. Specify dtype option on import or set low_memory=False.\n",
      "  interactivity=interactivity, compiler=compiler, result=result)\n"
     ]
    }
   ],
   "source": [
    "#Import data\n",
    "data = pd.read_csv('LoansTrainingSet.csv')"
   ]
  },
  {
   "cell_type": "code",
   "execution_count": 3,
   "metadata": {},
   "outputs": [
    {
     "name": "stdout",
     "output_type": "stream",
     "text": [
      "<class 'pandas.core.frame.DataFrame'>\n",
      "RangeIndex: 256984 entries, 0 to 256983\n",
      "Data columns (total 19 columns):\n",
      "Loan ID                         256984 non-null object\n",
      "Customer ID                     256984 non-null object\n",
      "Loan Status                     256984 non-null object\n",
      "Current Loan Amount             256984 non-null int64\n",
      "Term                            256984 non-null object\n",
      "Credit Score                    195308 non-null float64\n",
      "Years in current job            256984 non-null object\n",
      "Home Ownership                  256984 non-null object\n",
      "Annual Income                   195308 non-null float64\n",
      "Purpose                         256984 non-null object\n",
      "Monthly Debt                    256984 non-null object\n",
      "Years of Credit History         256984 non-null float64\n",
      "Months since last delinquent    116601 non-null float64\n",
      "Number of Open Accounts         256984 non-null int64\n",
      "Number of Credit Problems       256984 non-null int64\n",
      "Current Credit Balance          256984 non-null int64\n",
      "Maximum Open Credit             256984 non-null object\n",
      "Bankruptcies                    256455 non-null float64\n",
      "Tax Liens                       256961 non-null float64\n",
      "dtypes: float64(6), int64(4), object(9)\n",
      "memory usage: 37.3+ MB\n"
     ]
    }
   ],
   "source": [
    "#Explore data\n",
    "\n",
    "#data.head()\n",
    "\n",
    "#data.describe()\n",
    "    #Credit Score max greater than 800\n",
    "    #Annual Income min $0\n",
    "    #Number of Open Accounts max is 76\n",
    "\n",
    "#print(data['Term'].unique())\n",
    "    #Spelling differences / Punctuation format\n",
    "\n",
    "data.info()\n",
    "    #Total entries = 256984\n",
    "    #Annual Income = 195308\n",
    "    #Months since last delinquent = 116601\n",
    "    #Bankruptcies = 256455\n",
    "    #Tax Liens = 256961\n",
    "    #Credit Score = 195308\n",
    "    \n",
    "    #Monthly Debt is object\n",
    "    #Maximum Open Credit is object\n",
    "    \n",
    "#Duplicate rows"
   ]
  },
  {
   "cell_type": "code",
   "execution_count": 4,
   "metadata": {
    "collapsed": true
   },
   "outputs": [],
   "source": [
    "#Duplicate rows\n",
    "\n",
    "#Sort rows based on ascending number of NaN \n",
    "data = data.iloc[data.isnull().sum(1).sort_values(ascending=True).index]\n",
    "\n",
    "#Remove Duplicates based on Loan ID\n",
    "data = data.drop_duplicates(['Loan ID'], keep='last')\n",
    "\n",
    "#Reset dataframe indices\n",
    "data = data.reset_index(drop=True)"
   ]
  },
  {
   "cell_type": "code",
   "execution_count": 5,
   "metadata": {
    "collapsed": true
   },
   "outputs": [],
   "source": [
    "#Spelling differences / Punctuation format\n",
    "\n",
    "#print(data['Credit Score'].unique())\n",
    "\n",
    "#Loan Status - ['Fully Paid' 'Charged Off']\n",
    "#Term - ['Short Term' 'Long Term']\n",
    "#Years in current job - ['10+ years' '4 years' '6 years' '5 years' 'n/a' '3 years' '2 years' '< 1 year' '1 year' '7 years' '9 years' '8 years']\n",
    "    #Address 'n/a' and remove 'years','+','<' etc\n",
    "    #Convert to ordinal\n",
    "#Home Ownership - ['Home Mortgage' 'Own Home' 'Rent' 'HaveMortgage']\n",
    "    #'Home Mortgage' and 'HaveMortgage'\n",
    "#Purpose - ['Debt Consolidation' 'other' 'Business Loan' 'Home Improvements' 'Buy House' 'Other' 'Buy a Car' 'Medical Bills' 'Take a Trip' 'Educational Expenses']\n",
    "    #'other' and 'Other'\n",
    "#Credit Score - [  741.    nan   687.   744.   727.   730.   747.   719.   711.   690. 7210.  6210.  6690.  6330.  6470.  6190.  6670.  6490.  6760.  6180.\n",
    "    #4 digit credit scores - extra 0\n",
    "\n",
    "#Replace Home Ownership 'HaveMortgage' with 'Home Mortgage'\n",
    "data.replace({'HaveMortgage':'Home Mortgage'},inplace=True)\n",
    "    \n",
    "#Replace Purpose 'other' with 'Other'\n",
    "data.replace({'other':'Other'},inplace=True)\n",
    "\n",
    "#Revome extra '0' at the end of credit score\n",
    "for i in range(0,len(data)):\n",
    "    if data['Credit Score'].get_value(i) > 800 and np.isnan(data['Credit Score'].get_value(i)) == False:\n",
    "        new_score = (data['Credit Score'].get_value(i))/10\n",
    "        data.set_value(i,['Credit Score'],new_score)\n"
   ]
  },
  {
   "cell_type": "code",
   "execution_count": 6,
   "metadata": {
    "collapsed": true
   },
   "outputs": [],
   "source": [
    "#Convert Monthly Debt and Maximum Open Credit data to float\n",
    "\n",
    "#Remove commas and '$' from Monthly Debt\n",
    "data[['Monthly Debt']] = data[['Monthly Debt']].replace({'\\$': '',',': ''}, regex=True)\n",
    "\n",
    "#Remove '#VALUE!' from Maximum Open Credit\n",
    "data[['Maximum Open Credit']] = data[['Maximum Open Credit']].replace('#VALUE!', '')\n",
    "    \n",
    "#Convert Monthly Debt and Maximum Open Credit data from string to float\n",
    "data['Monthly Debt'] = pd.to_numeric(data['Monthly Debt'])\n",
    "data['Maximum Open Credit'] = pd.to_numeric(data['Maximum Open Credit'])"
   ]
  },
  {
   "cell_type": "code",
   "execution_count": 7,
   "metadata": {
    "collapsed": true
   },
   "outputs": [],
   "source": [
    "#Remove strings from Years in current job\n",
    "#['10+ years' '4 years' '6 years' '5 years' 'n/a' '3 years' '2 years' \n",
    "    #'< 1 year' '1 year' '7 years' '9 years' '8 years']\n",
    "    \n",
    "#List of strings to remove: '+', ' years', '< ', ' year'\n",
    "data[['Years in current job']] = data[['Years in current job']].replace('10+ years', '10')\n",
    "data[['Years in current job']] = data[['Years in current job']].replace(' years', '',regex=True)\n",
    "data[['Years in current job']] = data[['Years in current job']].replace('< ', '',regex=True)\n",
    "data[['Years in current job']] = data[['Years in current job']].replace(' year', '',regex=True)"
   ]
  },
  {
   "cell_type": "code",
   "execution_count": 8,
   "metadata": {},
   "outputs": [
    {
     "data": {
      "text/html": [
       "<div>\n",
       "<style>\n",
       "    .dataframe thead tr:only-child th {\n",
       "        text-align: right;\n",
       "    }\n",
       "\n",
       "    .dataframe thead th {\n",
       "        text-align: left;\n",
       "    }\n",
       "\n",
       "    .dataframe tbody tr th {\n",
       "        vertical-align: top;\n",
       "    }\n",
       "</style>\n",
       "<table border=\"1\" class=\"dataframe\">\n",
       "  <thead>\n",
       "    <tr style=\"text-align: right;\">\n",
       "      <th></th>\n",
       "      <th>Current Loan Amount</th>\n",
       "      <th>Credit Score</th>\n",
       "      <th>Annual Income</th>\n",
       "      <th>Monthly Debt</th>\n",
       "      <th>Years of Credit History</th>\n",
       "      <th>Months since last delinquent</th>\n",
       "      <th>Number of Open Accounts</th>\n",
       "      <th>Number of Credit Problems</th>\n",
       "      <th>Current Credit Balance</th>\n",
       "      <th>Maximum Open Credit</th>\n",
       "      <th>Bankruptcies</th>\n",
       "      <th>Tax Liens</th>\n",
       "    </tr>\n",
       "  </thead>\n",
       "  <tbody>\n",
       "    <tr>\n",
       "      <th>count</th>\n",
       "      <td>2.157000e+05</td>\n",
       "      <td>156544.000000</td>\n",
       "      <td>1.565440e+05</td>\n",
       "      <td>215700.000000</td>\n",
       "      <td>215700.000000</td>\n",
       "      <td>97438.000000</td>\n",
       "      <td>215700.000000</td>\n",
       "      <td>215700.000000</td>\n",
       "      <td>2.157000e+05</td>\n",
       "      <td>2.156980e+05</td>\n",
       "      <td>215248.000000</td>\n",
       "      <td>215678.000000</td>\n",
       "    </tr>\n",
       "    <tr>\n",
       "      <th>mean</th>\n",
       "      <td>1.633515e+07</td>\n",
       "      <td>723.911322</td>\n",
       "      <td>7.349255e+04</td>\n",
       "      <td>960.395471</td>\n",
       "      <td>18.359758</td>\n",
       "      <td>35.031949</td>\n",
       "      <td>11.077566</td>\n",
       "      <td>0.155424</td>\n",
       "      <td>1.545718e+04</td>\n",
       "      <td>3.698378e+04</td>\n",
       "      <td>0.110556</td>\n",
       "      <td>0.026331</td>\n",
       "    </tr>\n",
       "    <tr>\n",
       "      <th>std</th>\n",
       "      <td>3.695307e+07</td>\n",
       "      <td>26.086905</td>\n",
       "      <td>5.854577e+04</td>\n",
       "      <td>634.783876</td>\n",
       "      <td>7.057999</td>\n",
       "      <td>21.810714</td>\n",
       "      <td>4.971825</td>\n",
       "      <td>0.457972</td>\n",
       "      <td>1.975035e+04</td>\n",
       "      <td>6.011805e+05</td>\n",
       "      <td>0.336853</td>\n",
       "      <td>0.240853</td>\n",
       "    </tr>\n",
       "    <tr>\n",
       "      <th>min</th>\n",
       "      <td>5.050000e+02</td>\n",
       "      <td>585.000000</td>\n",
       "      <td>4.033000e+03</td>\n",
       "      <td>0.000000</td>\n",
       "      <td>3.400000</td>\n",
       "      <td>0.000000</td>\n",
       "      <td>0.000000</td>\n",
       "      <td>0.000000</td>\n",
       "      <td>0.000000e+00</td>\n",
       "      <td>0.000000e+00</td>\n",
       "      <td>0.000000</td>\n",
       "      <td>0.000000</td>\n",
       "    </tr>\n",
       "    <tr>\n",
       "      <th>25%</th>\n",
       "      <td>8.328750e+03</td>\n",
       "      <td>714.000000</td>\n",
       "      <td>4.505400e+04</td>\n",
       "      <td>527.640000</td>\n",
       "      <td>13.600000</td>\n",
       "      <td>17.000000</td>\n",
       "      <td>8.000000</td>\n",
       "      <td>0.000000</td>\n",
       "      <td>5.932000e+03</td>\n",
       "      <td>1.296100e+04</td>\n",
       "      <td>0.000000</td>\n",
       "      <td>0.000000</td>\n",
       "    </tr>\n",
       "    <tr>\n",
       "      <th>50%</th>\n",
       "      <td>1.464200e+04</td>\n",
       "      <td>732.000000</td>\n",
       "      <td>6.309450e+04</td>\n",
       "      <td>840.550000</td>\n",
       "      <td>17.000000</td>\n",
       "      <td>32.000000</td>\n",
       "      <td>10.000000</td>\n",
       "      <td>0.000000</td>\n",
       "      <td>1.104200e+04</td>\n",
       "      <td>2.206000e+04</td>\n",
       "      <td>0.000000</td>\n",
       "      <td>0.000000</td>\n",
       "    </tr>\n",
       "    <tr>\n",
       "      <th>75%</th>\n",
       "      <td>2.520800e+04</td>\n",
       "      <td>742.000000</td>\n",
       "      <td>8.860500e+04</td>\n",
       "      <td>1249.927500</td>\n",
       "      <td>21.800000</td>\n",
       "      <td>51.000000</td>\n",
       "      <td>14.000000</td>\n",
       "      <td>0.000000</td>\n",
       "      <td>1.932400e+04</td>\n",
       "      <td>3.680975e+04</td>\n",
       "      <td>0.000000</td>\n",
       "      <td>0.000000</td>\n",
       "    </tr>\n",
       "    <tr>\n",
       "      <th>max</th>\n",
       "      <td>1.000000e+08</td>\n",
       "      <td>751.000000</td>\n",
       "      <td>8.713547e+06</td>\n",
       "      <td>22939.120000</td>\n",
       "      <td>70.500000</td>\n",
       "      <td>176.000000</td>\n",
       "      <td>76.000000</td>\n",
       "      <td>11.000000</td>\n",
       "      <td>1.731412e+06</td>\n",
       "      <td>1.763322e+08</td>\n",
       "      <td>7.000000</td>\n",
       "      <td>11.000000</td>\n",
       "    </tr>\n",
       "  </tbody>\n",
       "</table>\n",
       "</div>"
      ],
      "text/plain": [
       "       Current Loan Amount   Credit Score  Annual Income   Monthly Debt  \\\n",
       "count         2.157000e+05  156544.000000   1.565440e+05  215700.000000   \n",
       "mean          1.633515e+07     723.911322   7.349255e+04     960.395471   \n",
       "std           3.695307e+07      26.086905   5.854577e+04     634.783876   \n",
       "min           5.050000e+02     585.000000   4.033000e+03       0.000000   \n",
       "25%           8.328750e+03     714.000000   4.505400e+04     527.640000   \n",
       "50%           1.464200e+04     732.000000   6.309450e+04     840.550000   \n",
       "75%           2.520800e+04     742.000000   8.860500e+04    1249.927500   \n",
       "max           1.000000e+08     751.000000   8.713547e+06   22939.120000   \n",
       "\n",
       "       Years of Credit History  Months since last delinquent  \\\n",
       "count            215700.000000                  97438.000000   \n",
       "mean                 18.359758                     35.031949   \n",
       "std                   7.057999                     21.810714   \n",
       "min                   3.400000                      0.000000   \n",
       "25%                  13.600000                     17.000000   \n",
       "50%                  17.000000                     32.000000   \n",
       "75%                  21.800000                     51.000000   \n",
       "max                  70.500000                    176.000000   \n",
       "\n",
       "       Number of Open Accounts  Number of Credit Problems  \\\n",
       "count            215700.000000              215700.000000   \n",
       "mean                 11.077566                   0.155424   \n",
       "std                   4.971825                   0.457972   \n",
       "min                   0.000000                   0.000000   \n",
       "25%                   8.000000                   0.000000   \n",
       "50%                  10.000000                   0.000000   \n",
       "75%                  14.000000                   0.000000   \n",
       "max                  76.000000                  11.000000   \n",
       "\n",
       "       Current Credit Balance  Maximum Open Credit   Bankruptcies  \\\n",
       "count            2.157000e+05         2.156980e+05  215248.000000   \n",
       "mean             1.545718e+04         3.698378e+04       0.110556   \n",
       "std              1.975035e+04         6.011805e+05       0.336853   \n",
       "min              0.000000e+00         0.000000e+00       0.000000   \n",
       "25%              5.932000e+03         1.296100e+04       0.000000   \n",
       "50%              1.104200e+04         2.206000e+04       0.000000   \n",
       "75%              1.932400e+04         3.680975e+04       0.000000   \n",
       "max              1.731412e+06         1.763322e+08       7.000000   \n",
       "\n",
       "           Tax Liens  \n",
       "count  215678.000000  \n",
       "mean        0.026331  \n",
       "std         0.240853  \n",
       "min         0.000000  \n",
       "25%         0.000000  \n",
       "50%         0.000000  \n",
       "75%         0.000000  \n",
       "max        11.000000  "
      ]
     },
     "execution_count": 8,
     "metadata": {},
     "output_type": "execute_result"
    }
   ],
   "source": [
    "data.describe()"
   ]
  },
  {
   "cell_type": "code",
   "execution_count": 9,
   "metadata": {
    "collapsed": true
   },
   "outputs": [],
   "source": [
    "#Missing data\n",
    "\n",
    "#Bankruptcies - [  0.   1.   2.   3.  nan   4.   6.   5.   7.]\n",
    "    #Bankruptcy removed from credit report after 7 years\n",
    "        #Replace NaN values with 0\n",
    "for i in range(0,len(data)):\n",
    "    if np.isnan(data['Bankruptcies'].get_value(i)) == True:\n",
    "        data.set_value(i,['Bankruptcies'],0)\n",
    "\n",
    "#Tax Liens - [  0.   2.   5.   1.   3.  nan   4.  11.   8.   6.   7.  10.   9.]\n",
    "    #Tax Liens removed from credit report after 10 years\n",
    "        #Replace NaN values with 0\n",
    "for i in range(0,len(data)):\n",
    "    if np.isnan(data['Tax Liens'].get_value(i)) == True:\n",
    "        data.set_value(i,['Tax Liens'],0)\n",
    "\n",
    "#Annual Income - [  33694.      nan  246025. ...,  102879.   36568.   25305.]\n",
    "    #Assuming NaN annual income is retiree or no income\n",
    "        #Replace NaN with 0\n",
    "for i in range(0,len(data)):\n",
    "    if np.isnan(data['Annual Income'].get_value(i)) == True:\n",
    "        data.set_value(i,['Annual Income'],0)\n",
    "\n",
    "#Months since last delinquent - 67.   94.   nan   93.   83.  115.   87.   99.  151.   88.  130.  101.\n",
    "    #Assuming NaN is for accounts that have never been delinquent.\n",
    "    #Replace NaN with 12*Years of Credit History\n",
    "for i in range(0,len(data)):\n",
    "    if np.isnan(data['Months since last delinquent'].get_value(i)) == True:\n",
    "        new_months = round((data['Years of Credit History'].get_value(i))*12)\n",
    "        data.set_value(i,['Months since last delinquent'],new_months)\n",
    "\n",
    "#Maximum Open Credit missing values due to data cleaning above\n",
    "for i in range(0,len(data)):\n",
    "    if np.isnan(data['Maximum Open Credit'].get_value(i)) == True:\n",
    "        new_max = data['Maximum Open Credit'].median()\n",
    "        data.set_value(i,['Maximum Open Credit'],new_max)"
   ]
  },
  {
   "cell_type": "code",
   "execution_count": 10,
   "metadata": {
    "collapsed": true
   },
   "outputs": [],
   "source": [
    "#Credit Score - [  741.    nan   687.   744.   727.   730.   747.   719.   711.   690.\n",
    "    #Determine missing credit scores with linear regression\n",
    "    #Regression based on Months since last delinquent, Current Credit Balance, Max Open Credit, and Years of Credit History\n",
    "    \n",
    "#Separate data into train and test sets\n",
    "train = data[np.isnan(data['Credit Score']) == False]\n",
    "test_for_pred = data[np.isnan(data['Credit Score']) == True]\n",
    "\n",
    "#Lasso regression to estimate Credit Score\n",
    "y = train[['Credit Score']]\n",
    "x = train[['Months since last delinquent','Current Credit Balance','Maximum Open Credit','Years of Credit History']]\n",
    "x = sm.add_constant(x)\n",
    "lassoreg = linear_model.Lasso()\n",
    "lassoreg.fit(x,y)\n",
    "\n",
    "x_test_for_pred = test_for_pred[['Months since last delinquent','Current Credit Balance','Maximum Open Credit','Years of Credit History']]\n",
    "x_test_for_pred = sm.add_constant(x_test_for_pred)\n",
    "y_pred_lasso = lassoreg.predict(x_test_for_pred)\n",
    "\n",
    "#Replace NaN Credit Score with predicted values from Lasso regression\n",
    "d = 0\n",
    "for i in range(0,len(data)):\n",
    "    if np.isnan(data['Credit Score'].get_value(i)) == True:\n",
    "        data.set_value(i,['Credit Score'],y_pred_lasso[d])\n",
    "        d = d + 1"
   ]
  },
  {
   "cell_type": "code",
   "execution_count": 11,
   "metadata": {},
   "outputs": [
    {
     "name": "stdout",
     "output_type": "stream",
     "text": [
      "<class 'pandas.core.frame.DataFrame'>\n",
      "RangeIndex: 215700 entries, 0 to 215699\n",
      "Data columns (total 19 columns):\n",
      "Loan ID                         215700 non-null object\n",
      "Customer ID                     215700 non-null object\n",
      "Loan Status                     215700 non-null object\n",
      "Current Loan Amount             215700 non-null int64\n",
      "Term                            215700 non-null object\n",
      "Credit Score                    215700 non-null float64\n",
      "Years in current job            215700 non-null object\n",
      "Home Ownership                  215700 non-null object\n",
      "Annual Income                   215700 non-null float64\n",
      "Purpose                         215700 non-null object\n",
      "Monthly Debt                    215700 non-null float64\n",
      "Years of Credit History         215700 non-null float64\n",
      "Months since last delinquent    215700 non-null float64\n",
      "Number of Open Accounts         215700 non-null int64\n",
      "Number of Credit Problems       215700 non-null int64\n",
      "Current Credit Balance          215700 non-null int64\n",
      "Maximum Open Credit             215700 non-null float64\n",
      "Bankruptcies                    215700 non-null float64\n",
      "Tax Liens                       215700 non-null float64\n",
      "dtypes: float64(8), int64(4), object(7)\n",
      "memory usage: 31.3+ MB\n"
     ]
    }
   ],
   "source": [
    "data.info()"
   ]
  },
  {
   "cell_type": "code",
   "execution_count": 12,
   "metadata": {
    "collapsed": true
   },
   "outputs": [],
   "source": [
    "#Feature Engineering\n",
    "\n",
    "#Current credit balance to max available credit ratio\n",
    "#x1 = pd.DataFrame(data['Current Credit Balance']/data['Maximum Open Credit'],columns=['x1'])\n",
    "    #Divide by zero error\n",
    "#data = pd.concat([x1,data],axis = 1)"
   ]
  },
  {
   "cell_type": "code",
   "execution_count": 28,
   "metadata": {
    "collapsed": true
   },
   "outputs": [],
   "source": [
    "#Convert to categorical using get_dummies \n",
    "dum_list = ['Term','Years in current job','Home Ownership','Purpose']\n",
    "prefix_list = ['Term','Years','Ownership','Purpose']\n",
    "merged_data_dums = pd.DataFrame(data['Loan Status']) #,'Credit Score','Annual Income','Monthly Debt','Years of Credit History','Months since last delinquent','Number of Open Accounts','Number of Credit Problems','Current Credit Balance','Maximum Open Credit','Bankruptcies','Tax Liens'])\n",
    "\n",
    "for col in range(len(dum_list)):\n",
    "    dums = pd.get_dummies(data[dum_list[col]].astype('category'), prefix = prefix_list[col], drop_first=True)\n",
    "    merged_data_dums = merged_data_dums.join(dums)\n",
    "\n",
    "data1 = data.drop(['Loan Status'],axis=1)\n",
    "x = pd.concat([data1,merged_data_dums],axis=1)"
   ]
  },
  {
   "cell_type": "code",
   "execution_count": 29,
   "metadata": {},
   "outputs": [
    {
     "name": "stdout",
     "output_type": "stream",
     "text": [
      "<class 'pandas.core.frame.DataFrame'>\n",
      "RangeIndex: 215700 entries, 0 to 215699\n",
      "Data columns (total 40 columns):\n",
      "Loan ID                         215700 non-null object\n",
      "Customer ID                     215700 non-null object\n",
      "Current Loan Amount             215700 non-null int64\n",
      "Term                            215700 non-null object\n",
      "Credit Score                    215700 non-null float64\n",
      "Years in current job            215700 non-null object\n",
      "Home Ownership                  215700 non-null object\n",
      "Annual Income                   215700 non-null float64\n",
      "Purpose                         215700 non-null object\n",
      "Monthly Debt                    215700 non-null float64\n",
      "Years of Credit History         215700 non-null float64\n",
      "Months since last delinquent    215700 non-null float64\n",
      "Number of Open Accounts         215700 non-null int64\n",
      "Number of Credit Problems       215700 non-null int64\n",
      "Current Credit Balance          215700 non-null int64\n",
      "Maximum Open Credit             215700 non-null float64\n",
      "Bankruptcies                    215700 non-null float64\n",
      "Tax Liens                       215700 non-null float64\n",
      "Loan Status                     215700 non-null object\n",
      "Term_Short Term                 215700 non-null uint8\n",
      "Years_10                        215700 non-null uint8\n",
      "Years_2                         215700 non-null uint8\n",
      "Years_3                         215700 non-null uint8\n",
      "Years_4                         215700 non-null uint8\n",
      "Years_5                         215700 non-null uint8\n",
      "Years_6                         215700 non-null uint8\n",
      "Years_7                         215700 non-null uint8\n",
      "Years_8                         215700 non-null uint8\n",
      "Years_9                         215700 non-null uint8\n",
      "Years_n/a                       215700 non-null uint8\n",
      "Ownership_Own Home              215700 non-null uint8\n",
      "Ownership_Rent                  215700 non-null uint8\n",
      "Purpose_Buy House               215700 non-null uint8\n",
      "Purpose_Buy a Car               215700 non-null uint8\n",
      "Purpose_Debt Consolidation      215700 non-null uint8\n",
      "Purpose_Educational Expenses    215700 non-null uint8\n",
      "Purpose_Home Improvements       215700 non-null uint8\n",
      "Purpose_Medical Bills           215700 non-null uint8\n",
      "Purpose_Other                   215700 non-null uint8\n",
      "Purpose_Take a Trip             215700 non-null uint8\n",
      "dtypes: float64(8), int64(4), object(7), uint8(21)\n",
      "memory usage: 35.6+ MB\n"
     ]
    }
   ],
   "source": [
    "x.info()"
   ]
  },
  {
   "cell_type": "code",
   "execution_count": 40,
   "metadata": {
    "collapsed": true
   },
   "outputs": [],
   "source": [
    "#Convert 'Loan Status' to integers \n",
    "ls = data[['Loan Status']]\n",
    "ls = pd.DataFrame(ls)\n",
    "ls.name ='Loan Status'\n",
    "lsmap = {'Fully Paid':1,'Charged Off':0}\n",
    "ls = ls.applymap(lambda s:lsmap.get(s) if s in lsmap else s)"
   ]
  },
  {
   "cell_type": "code",
   "execution_count": 62,
   "metadata": {},
   "outputs": [
    {
     "name": "stderr",
     "output_type": "stream",
     "text": [
      "C:\\Users\\Magu\\Anaconda3\\lib\\site-packages\\sklearn\\model_selection\\_split.py:2026: FutureWarning: From version 0.21, test_size will always complement train_size unless both are specified.\n",
      "  FutureWarning)\n"
     ]
    }
   ],
   "source": [
    "#Train test split\n",
    "x_train, x_test, y_train, y_test = train_test_split(x,ls,train_size = 0.7, random_state=0)\n",
    "test_Loan_ID = x_test['Loan ID']\n",
    "x_train = x_train.drop(['Loan ID','Customer ID','Loan Status','Term','Years in current job','Home Ownership','Purpose'],axis=1)\n",
    "x_test = x_test.drop(['Loan ID','Customer ID','Loan Status','Term','Years in current job','Home Ownership','Purpose'],axis=1)\n"
   ]
  },
  {
   "cell_type": "code",
   "execution_count": 50,
   "metadata": {},
   "outputs": [
    {
     "name": "stdout",
     "output_type": "stream",
     "text": [
      "<class 'pandas.core.frame.DataFrame'>\n",
      "Int64Index: 64710 entries, 207178 to 35928\n",
      "Data columns (total 33 columns):\n",
      "Current Loan Amount             64710 non-null int64\n",
      "Credit Score                    64710 non-null float64\n",
      "Annual Income                   64710 non-null float64\n",
      "Monthly Debt                    64710 non-null float64\n",
      "Years of Credit History         64710 non-null float64\n",
      "Months since last delinquent    64710 non-null float64\n",
      "Number of Open Accounts         64710 non-null int64\n",
      "Number of Credit Problems       64710 non-null int64\n",
      "Current Credit Balance          64710 non-null int64\n",
      "Maximum Open Credit             64710 non-null float64\n",
      "Bankruptcies                    64710 non-null float64\n",
      "Tax Liens                       64710 non-null float64\n",
      "Term_Short Term                 64710 non-null uint8\n",
      "Years_10                        64710 non-null uint8\n",
      "Years_2                         64710 non-null uint8\n",
      "Years_3                         64710 non-null uint8\n",
      "Years_4                         64710 non-null uint8\n",
      "Years_5                         64710 non-null uint8\n",
      "Years_6                         64710 non-null uint8\n",
      "Years_7                         64710 non-null uint8\n",
      "Years_8                         64710 non-null uint8\n",
      "Years_9                         64710 non-null uint8\n",
      "Years_n/a                       64710 non-null uint8\n",
      "Ownership_Own Home              64710 non-null uint8\n",
      "Ownership_Rent                  64710 non-null uint8\n",
      "Purpose_Buy House               64710 non-null uint8\n",
      "Purpose_Buy a Car               64710 non-null uint8\n",
      "Purpose_Debt Consolidation      64710 non-null uint8\n",
      "Purpose_Educational Expenses    64710 non-null uint8\n",
      "Purpose_Home Improvements       64710 non-null uint8\n",
      "Purpose_Medical Bills           64710 non-null uint8\n",
      "Purpose_Other                   64710 non-null uint8\n",
      "Purpose_Take a Trip             64710 non-null uint8\n",
      "dtypes: float64(8), int64(4), uint8(21)\n",
      "memory usage: 7.7 MB\n"
     ]
    }
   ],
   "source": [
    "x_test.info()"
   ]
  },
  {
   "cell_type": "code",
   "execution_count": 59,
   "metadata": {},
   "outputs": [
    {
     "name": "stderr",
     "output_type": "stream",
     "text": [
      "C:\\Users\\Magu\\Anaconda3\\lib\\site-packages\\ipykernel_launcher.py:3: DataConversionWarning: A column-vector y was passed when a 1d array was expected. Please change the shape of y to (n_samples,), for example using ravel().\n",
      "  This is separate from the ipykernel package so we can avoid doing imports until\n"
     ]
    },
    {
     "name": "stdout",
     "output_type": "stream",
     "text": [
      "0.454888113492\n",
      "-0.382092492713\n",
      "0.793076804203\n"
     ]
    }
   ],
   "source": [
    "#Random Forest classifier\n",
    "clf = RandomForestClassifier(n_estimators=10)\n",
    "clf = clf.fit(x_train,y_train)\n",
    "y_pred = clf.predict(x_test)\n",
    "print(mean_squared_error(y_test, y_pred)**0.5)\n",
    "print(r2_score(y_test, y_pred))\n",
    "print(accuracy_score(y_test, y_pred)) #Percent of correct predictions"
   ]
  },
  {
   "cell_type": "code",
   "execution_count": 54,
   "metadata": {},
   "outputs": [
    {
     "data": {
      "text/plain": [
       "<matplotlib.axes._subplots.AxesSubplot at 0x216a08cec18>"
      ]
     },
     "execution_count": 54,
     "metadata": {},
     "output_type": "execute_result"
    },
    {
     "data": {
      "image/png": "[encoded data removed]",
      "text/plain": [
       "<matplotlib.figure.Figure at 0x216a08ce358>"
      ]
     },
     "metadata": {},
     "output_type": "display_data"
    }
   ],
   "source": [
    "#Feature Importance based on Random Forest\n",
    "features = pd.DataFrame()\n",
    "features['Feature'] = x_train.columns\n",
    "features['Importance'] = clf.feature_importances_\n",
    "features.sort_values(by=['Importance'],ascending=True,inplace=True)\n",
    "features.set_index('Feature',inplace=True)\n",
    "features.plot(kind='barh',figsize=(20,20))"
   ]
  },
  {
   "cell_type": "code",
   "execution_count": 55,
   "metadata": {},
   "outputs": [
    {
     "name": "stderr",
     "output_type": "stream",
     "text": [
      "C:\\Users\\Magu\\Anaconda3\\lib\\site-packages\\sklearn\\utils\\validation.py:578: DataConversionWarning: A column-vector y was passed when a 1d array was expected. Please change the shape of y to (n_samples, ), for example using ravel().\n",
      "  y = column_or_1d(y, warn=True)\n"
     ]
    },
    {
     "name": "stdout",
     "output_type": "stream",
     "text": [
      "0.426882189424\n",
      "-0.21714971427\n",
      "0.817771596353\n"
     ]
    }
   ],
   "source": [
    "#Gradient Boosting Classifier\n",
    "clf = GradientBoostingClassifier()\n",
    "clf = clf.fit(x_train,y_train)\n",
    "y_pred = clf.predict(x_test)\n",
    "print(mean_squared_error(y_test, y_pred)**0.5)\n",
    "print(r2_score(y_test, y_pred))\n",
    "print(accuracy_score(y_test, y_pred)) #Percent of corrent predictions"
   ]
  },
  {
   "cell_type": "code",
   "execution_count": 56,
   "metadata": {},
   "outputs": [
    {
     "data": {
      "text/html": [
       "<div>\n",
       "<style>\n",
       "    .dataframe thead tr:only-child th {\n",
       "        text-align: right;\n",
       "    }\n",
       "\n",
       "    .dataframe thead th {\n",
       "        text-align: left;\n",
       "    }\n",
       "\n",
       "    .dataframe tbody tr th {\n",
       "        vertical-align: top;\n",
       "    }\n",
       "</style>\n",
       "<table border=\"1\" class=\"dataframe\">\n",
       "  <thead>\n",
       "    <tr style=\"text-align: right;\">\n",
       "      <th></th>\n",
       "      <th>Fully Paid</th>\n",
       "      <th>Charged Off</th>\n",
       "    </tr>\n",
       "  </thead>\n",
       "  <tbody>\n",
       "    <tr>\n",
       "      <th>0</th>\n",
       "      <td>361</td>\n",
       "      <td>11502</td>\n",
       "    </tr>\n",
       "    <tr>\n",
       "      <th>1</th>\n",
       "      <td>290</td>\n",
       "      <td>52557</td>\n",
       "    </tr>\n",
       "  </tbody>\n",
       "</table>\n",
       "</div>"
      ],
      "text/plain": [
       "   Fully Paid  Charged Off\n",
       "0         361        11502\n",
       "1         290        52557"
      ]
     },
     "execution_count": 56,
     "metadata": {},
     "output_type": "execute_result"
    }
   ],
   "source": [
    "#Precision and Recall (Confusion Matrix)\n",
    "conf = pd.DataFrame(confusion_matrix(y_test,y_pred),columns=['Fully Paid','Charged Off'])\n",
    "        \n",
    "prec = precision_score(y_test,y_pred,labels=None,pos_label=1,average=None,sample_weight=None)\n",
    "#[ 0.55453149,  0.82044678]\n",
    "\n",
    "rec = recall_score(y_test,y_pred,labels=None,pos_label=1,average=None,sample_weight=None)\n",
    "#[ 0.03043075,  0.99451246]\n",
    "\n",
    "#Calculate Probability of classification\n",
    "prob = clf.predict_proba(x_test)\n",
    "\n",
    "conf #columns = predicted, rows = actual"
   ]
  },
  {
   "cell_type": "code",
   "execution_count": 60,
   "metadata": {},
   "outputs": [
    {
     "name": "stdout",
     "output_type": "stream",
     "text": [
      "<class 'pandas.core.frame.DataFrame'>\n",
      "Int64Index: 64710 entries, 207178 to 35928\n",
      "Data columns (total 33 columns):\n",
      "Current Loan Amount             64710 non-null int64\n",
      "Credit Score                    64710 non-null float64\n",
      "Annual Income                   64710 non-null float64\n",
      "Monthly Debt                    64710 non-null float64\n",
      "Years of Credit History         64710 non-null float64\n",
      "Months since last delinquent    64710 non-null float64\n",
      "Number of Open Accounts         64710 non-null int64\n",
      "Number of Credit Problems       64710 non-null int64\n",
      "Current Credit Balance          64710 non-null int64\n",
      "Maximum Open Credit             64710 non-null float64\n",
      "Bankruptcies                    64710 non-null float64\n",
      "Tax Liens                       64710 non-null float64\n",
      "Term_Short Term                 64710 non-null uint8\n",
      "Years_10                        64710 non-null uint8\n",
      "Years_2                         64710 non-null uint8\n",
      "Years_3                         64710 non-null uint8\n",
      "Years_4                         64710 non-null uint8\n",
      "Years_5                         64710 non-null uint8\n",
      "Years_6                         64710 non-null uint8\n",
      "Years_7                         64710 non-null uint8\n",
      "Years_8                         64710 non-null uint8\n",
      "Years_9                         64710 non-null uint8\n",
      "Years_n/a                       64710 non-null uint8\n",
      "Ownership_Own Home              64710 non-null uint8\n",
      "Ownership_Rent                  64710 non-null uint8\n",
      "Purpose_Buy House               64710 non-null uint8\n",
      "Purpose_Buy a Car               64710 non-null uint8\n",
      "Purpose_Debt Consolidation      64710 non-null uint8\n",
      "Purpose_Educational Expenses    64710 non-null uint8\n",
      "Purpose_Home Improvements       64710 non-null uint8\n",
      "Purpose_Medical Bills           64710 non-null uint8\n",
      "Purpose_Other                   64710 non-null uint8\n",
      "Purpose_Take a Trip             64710 non-null uint8\n",
      "dtypes: float64(8), int64(4), uint8(21)\n",
      "memory usage: 7.7 MB\n"
     ]
    }
   ],
   "source": [
    "x_test.info()"
   ]
  },
  {
   "cell_type": "code",
   "execution_count": 63,
   "metadata": {
    "collapsed": true
   },
   "outputs": [],
   "source": [
    "#Output csv\n",
    "#CSV file with the location of the tower, followed by the classified fault_severity,\n",
    "#& if possible (check the sample project), the probabilities of the different fault_severity.\n",
    "\n",
    "sub = pd.DataFrame(OrderedDict({'Loan ID': test_Loan_ID,'Loan Status':y_pred,\n",
    "    'prob of Fully Paid':prob[:,0],'prob of Charged Off':prob[:,1]}))\n",
    "\n",
    "sub.to_csv('loan_prediction_v3.csv', index=False)"
   ]
  },
  {
   "cell_type": "code",
   "execution_count": null,
   "metadata": {
    "collapsed": true
   },
   "outputs": [],
   "source": []
  }
 ],
 "metadata": {
  "kernelspec": {
   "display_name": "Python 3",
   "language": "python",
   "name": "python3"
  },
  "language_info": {
   "codemirror_mode": {
    "name": "ipython",
    "version": 3
   },
   "file_extension": ".py",
   "mimetype": "text/x-python",
   "name": "python",
   "nbconvert_exporter": "python",
   "pygments_lexer": "ipython3",
   "version": "3.6.3"
  }
 },
 "nbformat": 4,
 "nbformat_minor": 2
}
